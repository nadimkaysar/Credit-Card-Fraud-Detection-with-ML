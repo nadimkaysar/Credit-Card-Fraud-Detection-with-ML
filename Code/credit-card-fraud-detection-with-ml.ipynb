{
 "cells": [
  {
   "cell_type": "markdown",
   "metadata": {},
   "source": [
    "**Data Gathering and Data Preprocessing ****"
   ]
  },
  {
   "cell_type": "code",
   "execution_count": 1,
   "metadata": {
    "_cell_guid": "79c7e3d0-c299-4dcb-8224-4455121ee9b0",
    "_uuid": "d629ff2d2480ee46fbb7e2d37f6b5fab8052498a"
   },
   "outputs": [],
   "source": [
    "import numpy as np\n",
    "import pandas as pd\n",
    "import matplotlib.pyplot as plt\n",
    "import seaborn as sns\n",
    "import warnings\n",
    "warnings.filterwarnings(\"ignore\")"
   ]
  },
  {
   "cell_type": "code",
   "execution_count": 2,
   "metadata": {},
   "outputs": [],
   "source": [
    "df = pd.read_csv(\"../input/creditcardfraud/creditcard.csv\")"
   ]
  },
  {
   "cell_type": "code",
   "execution_count": 3,
   "metadata": {},
   "outputs": [
    {
     "data": {
      "text/plain": [
       "(284807, 31)"
      ]
     },
     "execution_count": 3,
     "metadata": {},
     "output_type": "execute_result"
    }
   ],
   "source": [
    "df.shape"
   ]
  },
  {
   "cell_type": "code",
   "execution_count": 4,
   "metadata": {},
   "outputs": [
    {
     "data": {
      "text/html": [
       "<div>\n",
       "<style scoped>\n",
       "    .dataframe tbody tr th:only-of-type {\n",
       "        vertical-align: middle;\n",
       "    }\n",
       "\n",
       "    .dataframe tbody tr th {\n",
       "        vertical-align: top;\n",
       "    }\n",
       "\n",
       "    .dataframe thead th {\n",
       "        text-align: right;\n",
       "    }\n",
       "</style>\n",
       "<table border=\"1\" class=\"dataframe\">\n",
       "  <thead>\n",
       "    <tr style=\"text-align: right;\">\n",
       "      <th></th>\n",
       "      <th>Time</th>\n",
       "      <th>V1</th>\n",
       "      <th>V2</th>\n",
       "      <th>V3</th>\n",
       "      <th>V4</th>\n",
       "      <th>V5</th>\n",
       "      <th>V6</th>\n",
       "      <th>V7</th>\n",
       "      <th>V8</th>\n",
       "      <th>V9</th>\n",
       "      <th>...</th>\n",
       "      <th>V21</th>\n",
       "      <th>V22</th>\n",
       "      <th>V23</th>\n",
       "      <th>V24</th>\n",
       "      <th>V25</th>\n",
       "      <th>V26</th>\n",
       "      <th>V27</th>\n",
       "      <th>V28</th>\n",
       "      <th>Amount</th>\n",
       "      <th>Class</th>\n",
       "    </tr>\n",
       "  </thead>\n",
       "  <tbody>\n",
       "    <tr>\n",
       "      <th>0</th>\n",
       "      <td>0.0</td>\n",
       "      <td>-1.359807</td>\n",
       "      <td>-0.072781</td>\n",
       "      <td>2.536347</td>\n",
       "      <td>1.378155</td>\n",
       "      <td>-0.338321</td>\n",
       "      <td>0.462388</td>\n",
       "      <td>0.239599</td>\n",
       "      <td>0.098698</td>\n",
       "      <td>0.363787</td>\n",
       "      <td>...</td>\n",
       "      <td>-0.018307</td>\n",
       "      <td>0.277838</td>\n",
       "      <td>-0.110474</td>\n",
       "      <td>0.066928</td>\n",
       "      <td>0.128539</td>\n",
       "      <td>-0.189115</td>\n",
       "      <td>0.133558</td>\n",
       "      <td>-0.021053</td>\n",
       "      <td>149.62</td>\n",
       "      <td>0</td>\n",
       "    </tr>\n",
       "    <tr>\n",
       "      <th>1</th>\n",
       "      <td>0.0</td>\n",
       "      <td>1.191857</td>\n",
       "      <td>0.266151</td>\n",
       "      <td>0.166480</td>\n",
       "      <td>0.448154</td>\n",
       "      <td>0.060018</td>\n",
       "      <td>-0.082361</td>\n",
       "      <td>-0.078803</td>\n",
       "      <td>0.085102</td>\n",
       "      <td>-0.255425</td>\n",
       "      <td>...</td>\n",
       "      <td>-0.225775</td>\n",
       "      <td>-0.638672</td>\n",
       "      <td>0.101288</td>\n",
       "      <td>-0.339846</td>\n",
       "      <td>0.167170</td>\n",
       "      <td>0.125895</td>\n",
       "      <td>-0.008983</td>\n",
       "      <td>0.014724</td>\n",
       "      <td>2.69</td>\n",
       "      <td>0</td>\n",
       "    </tr>\n",
       "    <tr>\n",
       "      <th>2</th>\n",
       "      <td>1.0</td>\n",
       "      <td>-1.358354</td>\n",
       "      <td>-1.340163</td>\n",
       "      <td>1.773209</td>\n",
       "      <td>0.379780</td>\n",
       "      <td>-0.503198</td>\n",
       "      <td>1.800499</td>\n",
       "      <td>0.791461</td>\n",
       "      <td>0.247676</td>\n",
       "      <td>-1.514654</td>\n",
       "      <td>...</td>\n",
       "      <td>0.247998</td>\n",
       "      <td>0.771679</td>\n",
       "      <td>0.909412</td>\n",
       "      <td>-0.689281</td>\n",
       "      <td>-0.327642</td>\n",
       "      <td>-0.139097</td>\n",
       "      <td>-0.055353</td>\n",
       "      <td>-0.059752</td>\n",
       "      <td>378.66</td>\n",
       "      <td>0</td>\n",
       "    </tr>\n",
       "    <tr>\n",
       "      <th>3</th>\n",
       "      <td>1.0</td>\n",
       "      <td>-0.966272</td>\n",
       "      <td>-0.185226</td>\n",
       "      <td>1.792993</td>\n",
       "      <td>-0.863291</td>\n",
       "      <td>-0.010309</td>\n",
       "      <td>1.247203</td>\n",
       "      <td>0.237609</td>\n",
       "      <td>0.377436</td>\n",
       "      <td>-1.387024</td>\n",
       "      <td>...</td>\n",
       "      <td>-0.108300</td>\n",
       "      <td>0.005274</td>\n",
       "      <td>-0.190321</td>\n",
       "      <td>-1.175575</td>\n",
       "      <td>0.647376</td>\n",
       "      <td>-0.221929</td>\n",
       "      <td>0.062723</td>\n",
       "      <td>0.061458</td>\n",
       "      <td>123.50</td>\n",
       "      <td>0</td>\n",
       "    </tr>\n",
       "    <tr>\n",
       "      <th>4</th>\n",
       "      <td>2.0</td>\n",
       "      <td>-1.158233</td>\n",
       "      <td>0.877737</td>\n",
       "      <td>1.548718</td>\n",
       "      <td>0.403034</td>\n",
       "      <td>-0.407193</td>\n",
       "      <td>0.095921</td>\n",
       "      <td>0.592941</td>\n",
       "      <td>-0.270533</td>\n",
       "      <td>0.817739</td>\n",
       "      <td>...</td>\n",
       "      <td>-0.009431</td>\n",
       "      <td>0.798278</td>\n",
       "      <td>-0.137458</td>\n",
       "      <td>0.141267</td>\n",
       "      <td>-0.206010</td>\n",
       "      <td>0.502292</td>\n",
       "      <td>0.219422</td>\n",
       "      <td>0.215153</td>\n",
       "      <td>69.99</td>\n",
       "      <td>0</td>\n",
       "    </tr>\n",
       "  </tbody>\n",
       "</table>\n",
       "<p>5 rows × 31 columns</p>\n",
       "</div>"
      ],
      "text/plain": [
       "   Time        V1        V2        V3        V4        V5        V6        V7  \\\n",
       "0   0.0 -1.359807 -0.072781  2.536347  1.378155 -0.338321  0.462388  0.239599   \n",
       "1   0.0  1.191857  0.266151  0.166480  0.448154  0.060018 -0.082361 -0.078803   \n",
       "2   1.0 -1.358354 -1.340163  1.773209  0.379780 -0.503198  1.800499  0.791461   \n",
       "3   1.0 -0.966272 -0.185226  1.792993 -0.863291 -0.010309  1.247203  0.237609   \n",
       "4   2.0 -1.158233  0.877737  1.548718  0.403034 -0.407193  0.095921  0.592941   \n",
       "\n",
       "         V8        V9  ...       V21       V22       V23       V24       V25  \\\n",
       "0  0.098698  0.363787  ... -0.018307  0.277838 -0.110474  0.066928  0.128539   \n",
       "1  0.085102 -0.255425  ... -0.225775 -0.638672  0.101288 -0.339846  0.167170   \n",
       "2  0.247676 -1.514654  ...  0.247998  0.771679  0.909412 -0.689281 -0.327642   \n",
       "3  0.377436 -1.387024  ... -0.108300  0.005274 -0.190321 -1.175575  0.647376   \n",
       "4 -0.270533  0.817739  ... -0.009431  0.798278 -0.137458  0.141267 -0.206010   \n",
       "\n",
       "        V26       V27       V28  Amount  Class  \n",
       "0 -0.189115  0.133558 -0.021053  149.62      0  \n",
       "1  0.125895 -0.008983  0.014724    2.69      0  \n",
       "2 -0.139097 -0.055353 -0.059752  378.66      0  \n",
       "3 -0.221929  0.062723  0.061458  123.50      0  \n",
       "4  0.502292  0.219422  0.215153   69.99      0  \n",
       "\n",
       "[5 rows x 31 columns]"
      ]
     },
     "execution_count": 4,
     "metadata": {},
     "output_type": "execute_result"
    }
   ],
   "source": [
    "df.head()"
   ]
  },
  {
   "cell_type": "code",
   "execution_count": 5,
   "metadata": {},
   "outputs": [
    {
     "name": "stdout",
     "output_type": "stream",
     "text": [
      "<class 'pandas.core.frame.DataFrame'>\n",
      "RangeIndex: 284807 entries, 0 to 284806\n",
      "Data columns (total 31 columns):\n",
      "Time      284807 non-null float64\n",
      "V1        284807 non-null float64\n",
      "V2        284807 non-null float64\n",
      "V3        284807 non-null float64\n",
      "V4        284807 non-null float64\n",
      "V5        284807 non-null float64\n",
      "V6        284807 non-null float64\n",
      "V7        284807 non-null float64\n",
      "V8        284807 non-null float64\n",
      "V9        284807 non-null float64\n",
      "V10       284807 non-null float64\n",
      "V11       284807 non-null float64\n",
      "V12       284807 non-null float64\n",
      "V13       284807 non-null float64\n",
      "V14       284807 non-null float64\n",
      "V15       284807 non-null float64\n",
      "V16       284807 non-null float64\n",
      "V17       284807 non-null float64\n",
      "V18       284807 non-null float64\n",
      "V19       284807 non-null float64\n",
      "V20       284807 non-null float64\n",
      "V21       284807 non-null float64\n",
      "V22       284807 non-null float64\n",
      "V23       284807 non-null float64\n",
      "V24       284807 non-null float64\n",
      "V25       284807 non-null float64\n",
      "V26       284807 non-null float64\n",
      "V27       284807 non-null float64\n",
      "V28       284807 non-null float64\n",
      "Amount    284807 non-null float64\n",
      "Class     284807 non-null int64\n",
      "dtypes: float64(30), int64(1)\n",
      "memory usage: 67.4 MB\n"
     ]
    }
   ],
   "source": [
    "df.info()"
   ]
  },
  {
   "cell_type": "code",
   "execution_count": 6,
   "metadata": {},
   "outputs": [
    {
     "data": {
      "text/html": [
       "<div>\n",
       "<style scoped>\n",
       "    .dataframe tbody tr th:only-of-type {\n",
       "        vertical-align: middle;\n",
       "    }\n",
       "\n",
       "    .dataframe tbody tr th {\n",
       "        vertical-align: top;\n",
       "    }\n",
       "\n",
       "    .dataframe thead th {\n",
       "        text-align: right;\n",
       "    }\n",
       "</style>\n",
       "<table border=\"1\" class=\"dataframe\">\n",
       "  <thead>\n",
       "    <tr style=\"text-align: right;\">\n",
       "      <th></th>\n",
       "      <th>feature_type</th>\n",
       "      <th>count</th>\n",
       "    </tr>\n",
       "  </thead>\n",
       "  <tbody>\n",
       "    <tr>\n",
       "      <th>0</th>\n",
       "      <td>int64</td>\n",
       "      <td>1</td>\n",
       "    </tr>\n",
       "    <tr>\n",
       "      <th>1</th>\n",
       "      <td>float64</td>\n",
       "      <td>30</td>\n",
       "    </tr>\n",
       "  </tbody>\n",
       "</table>\n",
       "</div>"
      ],
      "text/plain": [
       "  feature_type  count\n",
       "0        int64      1\n",
       "1      float64     30"
      ]
     },
     "execution_count": 6,
     "metadata": {},
     "output_type": "execute_result"
    }
   ],
   "source": [
    "df.dtypes.sort_values().to_frame('feature_type').groupby(by = 'feature_type').size().to_frame('count').reset_index()"
   ]
  },
  {
   "cell_type": "code",
   "execution_count": 7,
   "metadata": {},
   "outputs": [],
   "source": [
    "df_dtypes = pd.merge(df.isnull().sum(axis = 0).sort_values().to_frame('missing_value').reset_index(),\n",
    "         df.dtypes.to_frame('feature_type').reset_index(),\n",
    "         on = 'index',\n",
    "         how = 'inner')"
   ]
  },
  {
   "cell_type": "code",
   "execution_count": 8,
   "metadata": {},
   "outputs": [
    {
     "data": {
      "text/html": [
       "<div>\n",
       "<style scoped>\n",
       "    .dataframe tbody tr th:only-of-type {\n",
       "        vertical-align: middle;\n",
       "    }\n",
       "\n",
       "    .dataframe tbody tr th {\n",
       "        vertical-align: top;\n",
       "    }\n",
       "\n",
       "    .dataframe thead th {\n",
       "        text-align: right;\n",
       "    }\n",
       "</style>\n",
       "<table border=\"1\" class=\"dataframe\">\n",
       "  <thead>\n",
       "    <tr style=\"text-align: right;\">\n",
       "      <th></th>\n",
       "      <th>index</th>\n",
       "      <th>missing_value</th>\n",
       "      <th>feature_type</th>\n",
       "    </tr>\n",
       "  </thead>\n",
       "  <tbody>\n",
       "    <tr>\n",
       "      <th>30</th>\n",
       "      <td>Class</td>\n",
       "      <td>0</td>\n",
       "      <td>int64</td>\n",
       "    </tr>\n",
       "    <tr>\n",
       "      <th>0</th>\n",
       "      <td>Time</td>\n",
       "      <td>0</td>\n",
       "      <td>float64</td>\n",
       "    </tr>\n",
       "    <tr>\n",
       "      <th>1</th>\n",
       "      <td>V28</td>\n",
       "      <td>0</td>\n",
       "      <td>float64</td>\n",
       "    </tr>\n",
       "    <tr>\n",
       "      <th>2</th>\n",
       "      <td>V27</td>\n",
       "      <td>0</td>\n",
       "      <td>float64</td>\n",
       "    </tr>\n",
       "    <tr>\n",
       "      <th>3</th>\n",
       "      <td>V26</td>\n",
       "      <td>0</td>\n",
       "      <td>float64</td>\n",
       "    </tr>\n",
       "    <tr>\n",
       "      <th>4</th>\n",
       "      <td>V25</td>\n",
       "      <td>0</td>\n",
       "      <td>float64</td>\n",
       "    </tr>\n",
       "    <tr>\n",
       "      <th>5</th>\n",
       "      <td>V24</td>\n",
       "      <td>0</td>\n",
       "      <td>float64</td>\n",
       "    </tr>\n",
       "    <tr>\n",
       "      <th>6</th>\n",
       "      <td>V23</td>\n",
       "      <td>0</td>\n",
       "      <td>float64</td>\n",
       "    </tr>\n",
       "    <tr>\n",
       "      <th>7</th>\n",
       "      <td>V22</td>\n",
       "      <td>0</td>\n",
       "      <td>float64</td>\n",
       "    </tr>\n",
       "    <tr>\n",
       "      <th>8</th>\n",
       "      <td>V21</td>\n",
       "      <td>0</td>\n",
       "      <td>float64</td>\n",
       "    </tr>\n",
       "    <tr>\n",
       "      <th>9</th>\n",
       "      <td>V20</td>\n",
       "      <td>0</td>\n",
       "      <td>float64</td>\n",
       "    </tr>\n",
       "    <tr>\n",
       "      <th>10</th>\n",
       "      <td>V19</td>\n",
       "      <td>0</td>\n",
       "      <td>float64</td>\n",
       "    </tr>\n",
       "    <tr>\n",
       "      <th>11</th>\n",
       "      <td>V18</td>\n",
       "      <td>0</td>\n",
       "      <td>float64</td>\n",
       "    </tr>\n",
       "    <tr>\n",
       "      <th>12</th>\n",
       "      <td>V17</td>\n",
       "      <td>0</td>\n",
       "      <td>float64</td>\n",
       "    </tr>\n",
       "    <tr>\n",
       "      <th>13</th>\n",
       "      <td>V16</td>\n",
       "      <td>0</td>\n",
       "      <td>float64</td>\n",
       "    </tr>\n",
       "    <tr>\n",
       "      <th>14</th>\n",
       "      <td>Amount</td>\n",
       "      <td>0</td>\n",
       "      <td>float64</td>\n",
       "    </tr>\n",
       "    <tr>\n",
       "      <th>15</th>\n",
       "      <td>V15</td>\n",
       "      <td>0</td>\n",
       "      <td>float64</td>\n",
       "    </tr>\n",
       "    <tr>\n",
       "      <th>16</th>\n",
       "      <td>V13</td>\n",
       "      <td>0</td>\n",
       "      <td>float64</td>\n",
       "    </tr>\n",
       "    <tr>\n",
       "      <th>17</th>\n",
       "      <td>V12</td>\n",
       "      <td>0</td>\n",
       "      <td>float64</td>\n",
       "    </tr>\n",
       "    <tr>\n",
       "      <th>18</th>\n",
       "      <td>V11</td>\n",
       "      <td>0</td>\n",
       "      <td>float64</td>\n",
       "    </tr>\n",
       "    <tr>\n",
       "      <th>19</th>\n",
       "      <td>V10</td>\n",
       "      <td>0</td>\n",
       "      <td>float64</td>\n",
       "    </tr>\n",
       "    <tr>\n",
       "      <th>20</th>\n",
       "      <td>V9</td>\n",
       "      <td>0</td>\n",
       "      <td>float64</td>\n",
       "    </tr>\n",
       "    <tr>\n",
       "      <th>21</th>\n",
       "      <td>V8</td>\n",
       "      <td>0</td>\n",
       "      <td>float64</td>\n",
       "    </tr>\n",
       "    <tr>\n",
       "      <th>22</th>\n",
       "      <td>V7</td>\n",
       "      <td>0</td>\n",
       "      <td>float64</td>\n",
       "    </tr>\n",
       "    <tr>\n",
       "      <th>23</th>\n",
       "      <td>V6</td>\n",
       "      <td>0</td>\n",
       "      <td>float64</td>\n",
       "    </tr>\n",
       "    <tr>\n",
       "      <th>24</th>\n",
       "      <td>V5</td>\n",
       "      <td>0</td>\n",
       "      <td>float64</td>\n",
       "    </tr>\n",
       "    <tr>\n",
       "      <th>25</th>\n",
       "      <td>V4</td>\n",
       "      <td>0</td>\n",
       "      <td>float64</td>\n",
       "    </tr>\n",
       "    <tr>\n",
       "      <th>26</th>\n",
       "      <td>V3</td>\n",
       "      <td>0</td>\n",
       "      <td>float64</td>\n",
       "    </tr>\n",
       "    <tr>\n",
       "      <th>27</th>\n",
       "      <td>V2</td>\n",
       "      <td>0</td>\n",
       "      <td>float64</td>\n",
       "    </tr>\n",
       "    <tr>\n",
       "      <th>28</th>\n",
       "      <td>V1</td>\n",
       "      <td>0</td>\n",
       "      <td>float64</td>\n",
       "    </tr>\n",
       "    <tr>\n",
       "      <th>29</th>\n",
       "      <td>V14</td>\n",
       "      <td>0</td>\n",
       "      <td>float64</td>\n",
       "    </tr>\n",
       "  </tbody>\n",
       "</table>\n",
       "</div>"
      ],
      "text/plain": [
       "     index  missing_value feature_type\n",
       "30   Class              0        int64\n",
       "0     Time              0      float64\n",
       "1      V28              0      float64\n",
       "2      V27              0      float64\n",
       "3      V26              0      float64\n",
       "4      V25              0      float64\n",
       "5      V24              0      float64\n",
       "6      V23              0      float64\n",
       "7      V22              0      float64\n",
       "8      V21              0      float64\n",
       "9      V20              0      float64\n",
       "10     V19              0      float64\n",
       "11     V18              0      float64\n",
       "12     V17              0      float64\n",
       "13     V16              0      float64\n",
       "14  Amount              0      float64\n",
       "15     V15              0      float64\n",
       "16     V13              0      float64\n",
       "17     V12              0      float64\n",
       "18     V11              0      float64\n",
       "19     V10              0      float64\n",
       "20      V9              0      float64\n",
       "21      V8              0      float64\n",
       "22      V7              0      float64\n",
       "23      V6              0      float64\n",
       "24      V5              0      float64\n",
       "25      V4              0      float64\n",
       "26      V3              0      float64\n",
       "27      V2              0      float64\n",
       "28      V1              0      float64\n",
       "29     V14              0      float64"
      ]
     },
     "execution_count": 8,
     "metadata": {},
     "output_type": "execute_result"
    }
   ],
   "source": [
    "df_dtypes.sort_values(['missing_value', 'feature_type'])"
   ]
  },
  {
   "cell_type": "code",
   "execution_count": 9,
   "metadata": {},
   "outputs": [
    {
     "data": {
      "text/html": [
       "<div>\n",
       "<style scoped>\n",
       "    .dataframe tbody tr th:only-of-type {\n",
       "        vertical-align: middle;\n",
       "    }\n",
       "\n",
       "    .dataframe tbody tr th {\n",
       "        vertical-align: top;\n",
       "    }\n",
       "\n",
       "    .dataframe thead th {\n",
       "        text-align: right;\n",
       "    }\n",
       "</style>\n",
       "<table border=\"1\" class=\"dataframe\">\n",
       "  <thead>\n",
       "    <tr style=\"text-align: right;\">\n",
       "      <th></th>\n",
       "      <th>Time</th>\n",
       "      <th>V1</th>\n",
       "      <th>V2</th>\n",
       "      <th>V3</th>\n",
       "      <th>V4</th>\n",
       "      <th>V5</th>\n",
       "      <th>V6</th>\n",
       "      <th>V7</th>\n",
       "      <th>V8</th>\n",
       "      <th>V9</th>\n",
       "      <th>...</th>\n",
       "      <th>V21</th>\n",
       "      <th>V22</th>\n",
       "      <th>V23</th>\n",
       "      <th>V24</th>\n",
       "      <th>V25</th>\n",
       "      <th>V26</th>\n",
       "      <th>V27</th>\n",
       "      <th>V28</th>\n",
       "      <th>Amount</th>\n",
       "      <th>Class</th>\n",
       "    </tr>\n",
       "  </thead>\n",
       "  <tbody>\n",
       "    <tr>\n",
       "      <th>count</th>\n",
       "      <td>284807.0</td>\n",
       "      <td>284807.0</td>\n",
       "      <td>284807.0</td>\n",
       "      <td>284807.0</td>\n",
       "      <td>284807.0</td>\n",
       "      <td>284807.0</td>\n",
       "      <td>284807.0</td>\n",
       "      <td>284807.0</td>\n",
       "      <td>284807.0</td>\n",
       "      <td>284807.0</td>\n",
       "      <td>...</td>\n",
       "      <td>284807.0</td>\n",
       "      <td>284807.0</td>\n",
       "      <td>284807.0</td>\n",
       "      <td>284807.0</td>\n",
       "      <td>284807.0</td>\n",
       "      <td>284807.0</td>\n",
       "      <td>284807.0</td>\n",
       "      <td>284807.0</td>\n",
       "      <td>284807.0</td>\n",
       "      <td>284807.0</td>\n",
       "    </tr>\n",
       "    <tr>\n",
       "      <th>mean</th>\n",
       "      <td>94814.0</td>\n",
       "      <td>0.0</td>\n",
       "      <td>0.0</td>\n",
       "      <td>-0.0</td>\n",
       "      <td>0.0</td>\n",
       "      <td>-0.0</td>\n",
       "      <td>0.0</td>\n",
       "      <td>-0.0</td>\n",
       "      <td>-0.0</td>\n",
       "      <td>-0.0</td>\n",
       "      <td>...</td>\n",
       "      <td>0.0</td>\n",
       "      <td>0.0</td>\n",
       "      <td>0.0</td>\n",
       "      <td>0.0</td>\n",
       "      <td>0.0</td>\n",
       "      <td>0.0</td>\n",
       "      <td>-0.0</td>\n",
       "      <td>-0.0</td>\n",
       "      <td>88.0</td>\n",
       "      <td>0.0</td>\n",
       "    </tr>\n",
       "    <tr>\n",
       "      <th>std</th>\n",
       "      <td>47488.0</td>\n",
       "      <td>2.0</td>\n",
       "      <td>2.0</td>\n",
       "      <td>2.0</td>\n",
       "      <td>1.0</td>\n",
       "      <td>1.0</td>\n",
       "      <td>1.0</td>\n",
       "      <td>1.0</td>\n",
       "      <td>1.0</td>\n",
       "      <td>1.0</td>\n",
       "      <td>...</td>\n",
       "      <td>1.0</td>\n",
       "      <td>1.0</td>\n",
       "      <td>1.0</td>\n",
       "      <td>1.0</td>\n",
       "      <td>1.0</td>\n",
       "      <td>0.0</td>\n",
       "      <td>0.0</td>\n",
       "      <td>0.0</td>\n",
       "      <td>250.0</td>\n",
       "      <td>0.0</td>\n",
       "    </tr>\n",
       "    <tr>\n",
       "      <th>min</th>\n",
       "      <td>0.0</td>\n",
       "      <td>-56.0</td>\n",
       "      <td>-73.0</td>\n",
       "      <td>-48.0</td>\n",
       "      <td>-6.0</td>\n",
       "      <td>-114.0</td>\n",
       "      <td>-26.0</td>\n",
       "      <td>-44.0</td>\n",
       "      <td>-73.0</td>\n",
       "      <td>-13.0</td>\n",
       "      <td>...</td>\n",
       "      <td>-35.0</td>\n",
       "      <td>-11.0</td>\n",
       "      <td>-45.0</td>\n",
       "      <td>-3.0</td>\n",
       "      <td>-10.0</td>\n",
       "      <td>-3.0</td>\n",
       "      <td>-23.0</td>\n",
       "      <td>-15.0</td>\n",
       "      <td>0.0</td>\n",
       "      <td>0.0</td>\n",
       "    </tr>\n",
       "    <tr>\n",
       "      <th>25%</th>\n",
       "      <td>54202.0</td>\n",
       "      <td>-1.0</td>\n",
       "      <td>-1.0</td>\n",
       "      <td>-1.0</td>\n",
       "      <td>-1.0</td>\n",
       "      <td>-1.0</td>\n",
       "      <td>-1.0</td>\n",
       "      <td>-1.0</td>\n",
       "      <td>-0.0</td>\n",
       "      <td>-1.0</td>\n",
       "      <td>...</td>\n",
       "      <td>-0.0</td>\n",
       "      <td>-1.0</td>\n",
       "      <td>-0.0</td>\n",
       "      <td>-0.0</td>\n",
       "      <td>-0.0</td>\n",
       "      <td>-0.0</td>\n",
       "      <td>-0.0</td>\n",
       "      <td>-0.0</td>\n",
       "      <td>6.0</td>\n",
       "      <td>0.0</td>\n",
       "    </tr>\n",
       "    <tr>\n",
       "      <th>50%</th>\n",
       "      <td>84692.0</td>\n",
       "      <td>0.0</td>\n",
       "      <td>0.0</td>\n",
       "      <td>0.0</td>\n",
       "      <td>-0.0</td>\n",
       "      <td>-0.0</td>\n",
       "      <td>-0.0</td>\n",
       "      <td>0.0</td>\n",
       "      <td>0.0</td>\n",
       "      <td>-0.0</td>\n",
       "      <td>...</td>\n",
       "      <td>-0.0</td>\n",
       "      <td>0.0</td>\n",
       "      <td>-0.0</td>\n",
       "      <td>0.0</td>\n",
       "      <td>0.0</td>\n",
       "      <td>-0.0</td>\n",
       "      <td>0.0</td>\n",
       "      <td>0.0</td>\n",
       "      <td>22.0</td>\n",
       "      <td>0.0</td>\n",
       "    </tr>\n",
       "    <tr>\n",
       "      <th>75%</th>\n",
       "      <td>139320.0</td>\n",
       "      <td>1.0</td>\n",
       "      <td>1.0</td>\n",
       "      <td>1.0</td>\n",
       "      <td>1.0</td>\n",
       "      <td>1.0</td>\n",
       "      <td>0.0</td>\n",
       "      <td>1.0</td>\n",
       "      <td>0.0</td>\n",
       "      <td>1.0</td>\n",
       "      <td>...</td>\n",
       "      <td>0.0</td>\n",
       "      <td>1.0</td>\n",
       "      <td>0.0</td>\n",
       "      <td>0.0</td>\n",
       "      <td>0.0</td>\n",
       "      <td>0.0</td>\n",
       "      <td>0.0</td>\n",
       "      <td>0.0</td>\n",
       "      <td>77.0</td>\n",
       "      <td>0.0</td>\n",
       "    </tr>\n",
       "    <tr>\n",
       "      <th>max</th>\n",
       "      <td>172792.0</td>\n",
       "      <td>2.0</td>\n",
       "      <td>22.0</td>\n",
       "      <td>9.0</td>\n",
       "      <td>17.0</td>\n",
       "      <td>35.0</td>\n",
       "      <td>73.0</td>\n",
       "      <td>121.0</td>\n",
       "      <td>20.0</td>\n",
       "      <td>16.0</td>\n",
       "      <td>...</td>\n",
       "      <td>27.0</td>\n",
       "      <td>11.0</td>\n",
       "      <td>23.0</td>\n",
       "      <td>5.0</td>\n",
       "      <td>8.0</td>\n",
       "      <td>4.0</td>\n",
       "      <td>32.0</td>\n",
       "      <td>34.0</td>\n",
       "      <td>25691.0</td>\n",
       "      <td>1.0</td>\n",
       "    </tr>\n",
       "  </tbody>\n",
       "</table>\n",
       "<p>8 rows × 31 columns</p>\n",
       "</div>"
      ],
      "text/plain": [
       "           Time        V1        V2        V3        V4        V5        V6  \\\n",
       "count  284807.0  284807.0  284807.0  284807.0  284807.0  284807.0  284807.0   \n",
       "mean    94814.0       0.0       0.0      -0.0       0.0      -0.0       0.0   \n",
       "std     47488.0       2.0       2.0       2.0       1.0       1.0       1.0   \n",
       "min         0.0     -56.0     -73.0     -48.0      -6.0    -114.0     -26.0   \n",
       "25%     54202.0      -1.0      -1.0      -1.0      -1.0      -1.0      -1.0   \n",
       "50%     84692.0       0.0       0.0       0.0      -0.0      -0.0      -0.0   \n",
       "75%    139320.0       1.0       1.0       1.0       1.0       1.0       0.0   \n",
       "max    172792.0       2.0      22.0       9.0      17.0      35.0      73.0   \n",
       "\n",
       "             V7        V8        V9  ...       V21       V22       V23  \\\n",
       "count  284807.0  284807.0  284807.0  ...  284807.0  284807.0  284807.0   \n",
       "mean       -0.0      -0.0      -0.0  ...       0.0       0.0       0.0   \n",
       "std         1.0       1.0       1.0  ...       1.0       1.0       1.0   \n",
       "min       -44.0     -73.0     -13.0  ...     -35.0     -11.0     -45.0   \n",
       "25%        -1.0      -0.0      -1.0  ...      -0.0      -1.0      -0.0   \n",
       "50%         0.0       0.0      -0.0  ...      -0.0       0.0      -0.0   \n",
       "75%         1.0       0.0       1.0  ...       0.0       1.0       0.0   \n",
       "max       121.0      20.0      16.0  ...      27.0      11.0      23.0   \n",
       "\n",
       "            V24       V25       V26       V27       V28    Amount     Class  \n",
       "count  284807.0  284807.0  284807.0  284807.0  284807.0  284807.0  284807.0  \n",
       "mean        0.0       0.0       0.0      -0.0      -0.0      88.0       0.0  \n",
       "std         1.0       1.0       0.0       0.0       0.0     250.0       0.0  \n",
       "min        -3.0     -10.0      -3.0     -23.0     -15.0       0.0       0.0  \n",
       "25%        -0.0      -0.0      -0.0      -0.0      -0.0       6.0       0.0  \n",
       "50%         0.0       0.0      -0.0       0.0       0.0      22.0       0.0  \n",
       "75%         0.0       0.0       0.0       0.0       0.0      77.0       0.0  \n",
       "max         5.0       8.0       4.0      32.0      34.0   25691.0       1.0  \n",
       "\n",
       "[8 rows x 31 columns]"
      ]
     },
     "execution_count": 9,
     "metadata": {},
     "output_type": "execute_result"
    }
   ],
   "source": [
    "df.describe().round()"
   ]
  },
  {
   "cell_type": "code",
   "execution_count": 10,
   "metadata": {},
   "outputs": [],
   "source": [
    "def find_constant_features(dataFrame):\n",
    "    const_features = []\n",
    "    for column in list(dataFrame.columns):\n",
    "        if dataFrame[column].unique().size < 2:\n",
    "            const_features.append(column)\n",
    "    return const_features"
   ]
  },
  {
   "cell_type": "code",
   "execution_count": 11,
   "metadata": {},
   "outputs": [],
   "source": [
    "const_features = find_constant_features(df)"
   ]
  },
  {
   "cell_type": "code",
   "execution_count": 12,
   "metadata": {},
   "outputs": [
    {
     "data": {
      "text/plain": [
       "[]"
      ]
     },
     "execution_count": 12,
     "metadata": {},
     "output_type": "execute_result"
    }
   ],
   "source": [
    "const_features"
   ]
  },
  {
   "cell_type": "markdown",
   "metadata": {},
   "source": [
    "**Remove Duplicate Rows**"
   ]
  },
  {
   "cell_type": "code",
   "execution_count": 13,
   "metadata": {},
   "outputs": [],
   "source": [
    "df.drop_duplicates(inplace= True)"
   ]
  },
  {
   "cell_type": "code",
   "execution_count": 14,
   "metadata": {},
   "outputs": [
    {
     "data": {
      "text/plain": [
       "(283726, 31)"
      ]
     },
     "execution_count": 14,
     "metadata": {},
     "output_type": "execute_result"
    }
   ],
   "source": [
    "df.shape"
   ]
  },
  {
   "cell_type": "markdown",
   "metadata": {},
   "source": [
    "*********Remove duplicate columns*********"
   ]
  },
  {
   "cell_type": "code",
   "execution_count": 15,
   "metadata": {},
   "outputs": [],
   "source": [
    "def duplicate_columns(frame):\n",
    "    groups = frame.columns.to_series().groupby(frame.dtypes).groups\n",
    "    dups = []\n",
    "\n",
    "    for t, v in groups.items():\n",
    "\n",
    "        cs = frame[v].columns\n",
    "        vs = frame[v]\n",
    "        lcs = len(cs)\n",
    "\n",
    "        for i in range(lcs):\n",
    "            ia = vs.iloc[:,i].values\n",
    "            for j in range(i+1, lcs):\n",
    "                ja = vs.iloc[:,j].values\n",
    "                if np.array_equal(ia, ja):\n",
    "                    dups.append(cs[i])\n",
    "                    break\n",
    "    return dups"
   ]
  },
  {
   "cell_type": "code",
   "execution_count": 16,
   "metadata": {},
   "outputs": [],
   "source": [
    "duplicate_cols = duplicate_columns(df)"
   ]
  },
  {
   "cell_type": "code",
   "execution_count": 17,
   "metadata": {},
   "outputs": [
    {
     "data": {
      "text/plain": [
       "(283726, 31)"
      ]
     },
     "execution_count": 17,
     "metadata": {},
     "output_type": "execute_result"
    }
   ],
   "source": [
    "duplicate_cols\n",
    "df.shape\n"
   ]
  },
  {
   "cell_type": "code",
   "execution_count": 18,
   "metadata": {},
   "outputs": [
    {
     "data": {
      "text/plain": [
       "Index(['Time', 'V1', 'V2', 'V3', 'V4', 'V5', 'V6', 'V7', 'V8', 'V9', 'V10',\n",
       "       'V11', 'V12', 'V13', 'V14', 'V15', 'V16', 'V17', 'V18', 'V19', 'V20',\n",
       "       'V21', 'V22', 'V23', 'V24', 'V25', 'V26', 'V27', 'V28', 'Amount',\n",
       "       'Class'],\n",
       "      dtype='object')"
      ]
     },
     "execution_count": 18,
     "metadata": {},
     "output_type": "execute_result"
    }
   ],
   "source": [
    "df.columns"
   ]
  },
  {
   "cell_type": "code",
   "execution_count": 19,
   "metadata": {},
   "outputs": [
    {
     "data": {
      "text/plain": [
       "Text(0.5, 1.0, 'Class Distributions \\n (0: No Fraud || 1: Fraud)')"
      ]
     },
     "execution_count": 19,
     "metadata": {},
     "output_type": "execute_result"
    },
    {
     "data": {
      "image/png": "[encoded data removed]",
      "text/plain": [
       "<Figure size 432x288 with 1 Axes>"
      ]
     },
     "metadata": {
      "needs_background": "light"
     },
     "output_type": "display_data"
    }
   ],
   "source": [
    "sns.countplot('Class', data=df)\n",
    "plt.title('Class Distributions \\n (0: No Fraud || 1: Fraud)', fontsize=11)"
   ]
  },
  {
   "cell_type": "code",
   "execution_count": 20,
   "metadata": {},
   "outputs": [
    {
     "data": {
      "image/png": "[encoded data removed]",
      "text/plain": [
       "<Figure size 360x360 with 1 Axes>"
      ]
     },
     "metadata": {
      "needs_background": "light"
     },
     "output_type": "display_data"
    }
   ],
   "source": [
    "\n",
    "sns.catplot(x=\"Class\",y=\"Amount\",kind=\"bar\",data=df);"
   ]
  },
  {
   "cell_type": "code",
   "execution_count": 21,
   "metadata": {},
   "outputs": [],
   "source": [
    "amount = df['Amount'].values\n",
    "time= df['Time'].values"
   ]
  },
  {
   "cell_type": "code",
   "execution_count": 22,
   "metadata": {},
   "outputs": [
    {
     "data": {
      "text/plain": [
       "<matplotlib.axes._subplots.AxesSubplot at 0x7f8e67635208>"
      ]
     },
     "execution_count": 22,
     "metadata": {},
     "output_type": "execute_result"
    },
    {
     "data": {
      "image/png": "[encoded data removed]",
      "text/plain": [
       "<Figure size 432x288 with 1 Axes>"
      ]
     },
     "metadata": {
      "needs_background": "light"
     },
     "output_type": "display_data"
    }
   ],
   "source": [
    "sns.distplot(amount,bins=20,color='r')"
   ]
  },
  {
   "cell_type": "code",
   "execution_count": 23,
   "metadata": {},
   "outputs": [
    {
     "data": {
      "text/plain": [
       "<matplotlib.axes._subplots.AxesSubplot at 0x7f8e6761ac18>"
      ]
     },
     "execution_count": 23,
     "metadata": {},
     "output_type": "execute_result"
    },
    {
     "data": {
      "image/png": "[encoded data removed]",
      "text/plain": [
       "<Figure size 432x288 with 1 Axes>"
      ]
     },
     "metadata": {
      "needs_background": "light"
     },
     "output_type": "display_data"
    }
   ],
   "source": [
    "sns.distplot(time,bins=50,color='r')"
   ]
  },
  {
   "cell_type": "markdown",
   "metadata": {},
   "source": [
    "************Correlation and Correlation with Target Variable********"
   ]
  },
  {
   "cell_type": "code",
   "execution_count": 24,
   "metadata": {},
   "outputs": [
    {
     "data": {
      "text/html": [
       "<div>\n",
       "<style scoped>\n",
       "    .dataframe tbody tr th:only-of-type {\n",
       "        vertical-align: middle;\n",
       "    }\n",
       "\n",
       "    .dataframe tbody tr th {\n",
       "        vertical-align: top;\n",
       "    }\n",
       "\n",
       "    .dataframe thead th {\n",
       "        text-align: right;\n",
       "    }\n",
       "</style>\n",
       "<table border=\"1\" class=\"dataframe\">\n",
       "  <thead>\n",
       "    <tr style=\"text-align: right;\">\n",
       "      <th></th>\n",
       "      <th>count</th>\n",
       "      <th>mean</th>\n",
       "      <th>std</th>\n",
       "      <th>min</th>\n",
       "      <th>25%</th>\n",
       "      <th>50%</th>\n",
       "      <th>75%</th>\n",
       "      <th>max</th>\n",
       "    </tr>\n",
       "  </thead>\n",
       "  <tbody>\n",
       "    <tr>\n",
       "      <th>Time</th>\n",
       "      <td>283726.0</td>\n",
       "      <td>94811.077600</td>\n",
       "      <td>47481.047891</td>\n",
       "      <td>0.000000</td>\n",
       "      <td>54204.750000</td>\n",
       "      <td>84692.500000</td>\n",
       "      <td>139298.000000</td>\n",
       "      <td>172792.000000</td>\n",
       "    </tr>\n",
       "    <tr>\n",
       "      <th>V1</th>\n",
       "      <td>283726.0</td>\n",
       "      <td>0.005917</td>\n",
       "      <td>1.948026</td>\n",
       "      <td>-56.407510</td>\n",
       "      <td>-0.915951</td>\n",
       "      <td>0.020384</td>\n",
       "      <td>1.316068</td>\n",
       "      <td>2.454930</td>\n",
       "    </tr>\n",
       "    <tr>\n",
       "      <th>V2</th>\n",
       "      <td>283726.0</td>\n",
       "      <td>-0.004135</td>\n",
       "      <td>1.646703</td>\n",
       "      <td>-72.715728</td>\n",
       "      <td>-0.600321</td>\n",
       "      <td>0.063949</td>\n",
       "      <td>0.800283</td>\n",
       "      <td>22.057729</td>\n",
       "    </tr>\n",
       "    <tr>\n",
       "      <th>V3</th>\n",
       "      <td>283726.0</td>\n",
       "      <td>0.001613</td>\n",
       "      <td>1.508682</td>\n",
       "      <td>-48.325589</td>\n",
       "      <td>-0.889682</td>\n",
       "      <td>0.179963</td>\n",
       "      <td>1.026960</td>\n",
       "      <td>9.382558</td>\n",
       "    </tr>\n",
       "    <tr>\n",
       "      <th>V4</th>\n",
       "      <td>283726.0</td>\n",
       "      <td>-0.002966</td>\n",
       "      <td>1.414184</td>\n",
       "      <td>-5.683171</td>\n",
       "      <td>-0.850134</td>\n",
       "      <td>-0.022248</td>\n",
       "      <td>0.739647</td>\n",
       "      <td>16.875344</td>\n",
       "    </tr>\n",
       "    <tr>\n",
       "      <th>V5</th>\n",
       "      <td>283726.0</td>\n",
       "      <td>0.001828</td>\n",
       "      <td>1.377008</td>\n",
       "      <td>-113.743307</td>\n",
       "      <td>-0.689830</td>\n",
       "      <td>-0.053468</td>\n",
       "      <td>0.612218</td>\n",
       "      <td>34.801666</td>\n",
       "    </tr>\n",
       "    <tr>\n",
       "      <th>V6</th>\n",
       "      <td>283726.0</td>\n",
       "      <td>-0.001139</td>\n",
       "      <td>1.331931</td>\n",
       "      <td>-26.160506</td>\n",
       "      <td>-0.769031</td>\n",
       "      <td>-0.275168</td>\n",
       "      <td>0.396792</td>\n",
       "      <td>73.301626</td>\n",
       "    </tr>\n",
       "    <tr>\n",
       "      <th>V7</th>\n",
       "      <td>283726.0</td>\n",
       "      <td>0.001801</td>\n",
       "      <td>1.227664</td>\n",
       "      <td>-43.557242</td>\n",
       "      <td>-0.552509</td>\n",
       "      <td>0.040859</td>\n",
       "      <td>0.570474</td>\n",
       "      <td>120.589494</td>\n",
       "    </tr>\n",
       "    <tr>\n",
       "      <th>V8</th>\n",
       "      <td>283726.0</td>\n",
       "      <td>-0.000854</td>\n",
       "      <td>1.179054</td>\n",
       "      <td>-73.216718</td>\n",
       "      <td>-0.208828</td>\n",
       "      <td>0.021898</td>\n",
       "      <td>0.325704</td>\n",
       "      <td>20.007208</td>\n",
       "    </tr>\n",
       "    <tr>\n",
       "      <th>V9</th>\n",
       "      <td>283726.0</td>\n",
       "      <td>-0.001596</td>\n",
       "      <td>1.095492</td>\n",
       "      <td>-13.434066</td>\n",
       "      <td>-0.644221</td>\n",
       "      <td>-0.052596</td>\n",
       "      <td>0.595977</td>\n",
       "      <td>15.594995</td>\n",
       "    </tr>\n",
       "    <tr>\n",
       "      <th>V10</th>\n",
       "      <td>283726.0</td>\n",
       "      <td>-0.001441</td>\n",
       "      <td>1.076407</td>\n",
       "      <td>-24.588262</td>\n",
       "      <td>-0.535578</td>\n",
       "      <td>-0.093237</td>\n",
       "      <td>0.453619</td>\n",
       "      <td>23.745136</td>\n",
       "    </tr>\n",
       "    <tr>\n",
       "      <th>V11</th>\n",
       "      <td>283726.0</td>\n",
       "      <td>0.000202</td>\n",
       "      <td>1.018720</td>\n",
       "      <td>-4.797473</td>\n",
       "      <td>-0.761649</td>\n",
       "      <td>-0.032306</td>\n",
       "      <td>0.739579</td>\n",
       "      <td>12.018913</td>\n",
       "    </tr>\n",
       "    <tr>\n",
       "      <th>V12</th>\n",
       "      <td>283726.0</td>\n",
       "      <td>-0.000715</td>\n",
       "      <td>0.994674</td>\n",
       "      <td>-18.683715</td>\n",
       "      <td>-0.406198</td>\n",
       "      <td>0.139072</td>\n",
       "      <td>0.616976</td>\n",
       "      <td>7.848392</td>\n",
       "    </tr>\n",
       "    <tr>\n",
       "      <th>V13</th>\n",
       "      <td>283726.0</td>\n",
       "      <td>0.000603</td>\n",
       "      <td>0.995430</td>\n",
       "      <td>-5.791881</td>\n",
       "      <td>-0.647862</td>\n",
       "      <td>-0.012927</td>\n",
       "      <td>0.663178</td>\n",
       "      <td>7.126883</td>\n",
       "    </tr>\n",
       "    <tr>\n",
       "      <th>V14</th>\n",
       "      <td>283726.0</td>\n",
       "      <td>0.000252</td>\n",
       "      <td>0.952215</td>\n",
       "      <td>-19.214325</td>\n",
       "      <td>-0.425732</td>\n",
       "      <td>0.050209</td>\n",
       "      <td>0.492336</td>\n",
       "      <td>10.526766</td>\n",
       "    </tr>\n",
       "    <tr>\n",
       "      <th>V15</th>\n",
       "      <td>283726.0</td>\n",
       "      <td>0.001043</td>\n",
       "      <td>0.914894</td>\n",
       "      <td>-4.498945</td>\n",
       "      <td>-0.581452</td>\n",
       "      <td>0.049299</td>\n",
       "      <td>0.650104</td>\n",
       "      <td>8.877742</td>\n",
       "    </tr>\n",
       "    <tr>\n",
       "      <th>V16</th>\n",
       "      <td>283726.0</td>\n",
       "      <td>0.001162</td>\n",
       "      <td>0.873696</td>\n",
       "      <td>-14.129855</td>\n",
       "      <td>-0.466860</td>\n",
       "      <td>0.067119</td>\n",
       "      <td>0.523512</td>\n",
       "      <td>17.315112</td>\n",
       "    </tr>\n",
       "    <tr>\n",
       "      <th>V17</th>\n",
       "      <td>283726.0</td>\n",
       "      <td>0.000170</td>\n",
       "      <td>0.842507</td>\n",
       "      <td>-25.162799</td>\n",
       "      <td>-0.483928</td>\n",
       "      <td>-0.065867</td>\n",
       "      <td>0.398972</td>\n",
       "      <td>9.253526</td>\n",
       "    </tr>\n",
       "    <tr>\n",
       "      <th>V18</th>\n",
       "      <td>283726.0</td>\n",
       "      <td>0.001515</td>\n",
       "      <td>0.837378</td>\n",
       "      <td>-9.498746</td>\n",
       "      <td>-0.498014</td>\n",
       "      <td>-0.002142</td>\n",
       "      <td>0.501956</td>\n",
       "      <td>5.041069</td>\n",
       "    </tr>\n",
       "    <tr>\n",
       "      <th>V19</th>\n",
       "      <td>283726.0</td>\n",
       "      <td>-0.000264</td>\n",
       "      <td>0.813379</td>\n",
       "      <td>-7.213527</td>\n",
       "      <td>-0.456289</td>\n",
       "      <td>0.003367</td>\n",
       "      <td>0.458508</td>\n",
       "      <td>5.591971</td>\n",
       "    </tr>\n",
       "    <tr>\n",
       "      <th>V20</th>\n",
       "      <td>283726.0</td>\n",
       "      <td>0.000187</td>\n",
       "      <td>0.769984</td>\n",
       "      <td>-54.497720</td>\n",
       "      <td>-0.211469</td>\n",
       "      <td>-0.062353</td>\n",
       "      <td>0.133207</td>\n",
       "      <td>39.420904</td>\n",
       "    </tr>\n",
       "    <tr>\n",
       "      <th>V21</th>\n",
       "      <td>283726.0</td>\n",
       "      <td>-0.000371</td>\n",
       "      <td>0.723909</td>\n",
       "      <td>-34.830382</td>\n",
       "      <td>-0.228305</td>\n",
       "      <td>-0.029441</td>\n",
       "      <td>0.186194</td>\n",
       "      <td>27.202839</td>\n",
       "    </tr>\n",
       "    <tr>\n",
       "      <th>V22</th>\n",
       "      <td>283726.0</td>\n",
       "      <td>-0.000015</td>\n",
       "      <td>0.724550</td>\n",
       "      <td>-10.933144</td>\n",
       "      <td>-0.542700</td>\n",
       "      <td>0.006675</td>\n",
       "      <td>0.528245</td>\n",
       "      <td>10.503090</td>\n",
       "    </tr>\n",
       "    <tr>\n",
       "      <th>V23</th>\n",
       "      <td>283726.0</td>\n",
       "      <td>0.000198</td>\n",
       "      <td>0.623702</td>\n",
       "      <td>-44.807735</td>\n",
       "      <td>-0.161703</td>\n",
       "      <td>-0.011159</td>\n",
       "      <td>0.147748</td>\n",
       "      <td>22.528412</td>\n",
       "    </tr>\n",
       "    <tr>\n",
       "      <th>V24</th>\n",
       "      <td>283726.0</td>\n",
       "      <td>0.000214</td>\n",
       "      <td>0.605627</td>\n",
       "      <td>-2.836627</td>\n",
       "      <td>-0.354453</td>\n",
       "      <td>0.041016</td>\n",
       "      <td>0.439738</td>\n",
       "      <td>4.584549</td>\n",
       "    </tr>\n",
       "    <tr>\n",
       "      <th>V25</th>\n",
       "      <td>283726.0</td>\n",
       "      <td>-0.000232</td>\n",
       "      <td>0.521220</td>\n",
       "      <td>-10.295397</td>\n",
       "      <td>-0.317485</td>\n",
       "      <td>0.016278</td>\n",
       "      <td>0.350667</td>\n",
       "      <td>7.519589</td>\n",
       "    </tr>\n",
       "    <tr>\n",
       "      <th>V26</th>\n",
       "      <td>283726.0</td>\n",
       "      <td>0.000149</td>\n",
       "      <td>0.482053</td>\n",
       "      <td>-2.604551</td>\n",
       "      <td>-0.326763</td>\n",
       "      <td>-0.052172</td>\n",
       "      <td>0.240261</td>\n",
       "      <td>3.517346</td>\n",
       "    </tr>\n",
       "    <tr>\n",
       "      <th>V27</th>\n",
       "      <td>283726.0</td>\n",
       "      <td>0.001763</td>\n",
       "      <td>0.395744</td>\n",
       "      <td>-22.565679</td>\n",
       "      <td>-0.070641</td>\n",
       "      <td>0.001479</td>\n",
       "      <td>0.091208</td>\n",
       "      <td>31.612198</td>\n",
       "    </tr>\n",
       "    <tr>\n",
       "      <th>V28</th>\n",
       "      <td>283726.0</td>\n",
       "      <td>0.000547</td>\n",
       "      <td>0.328027</td>\n",
       "      <td>-15.430084</td>\n",
       "      <td>-0.052818</td>\n",
       "      <td>0.011288</td>\n",
       "      <td>0.078276</td>\n",
       "      <td>33.847808</td>\n",
       "    </tr>\n",
       "    <tr>\n",
       "      <th>Amount</th>\n",
       "      <td>283726.0</td>\n",
       "      <td>88.472687</td>\n",
       "      <td>250.399437</td>\n",
       "      <td>0.000000</td>\n",
       "      <td>5.600000</td>\n",
       "      <td>22.000000</td>\n",
       "      <td>77.510000</td>\n",
       "      <td>25691.160000</td>\n",
       "    </tr>\n",
       "    <tr>\n",
       "      <th>Class</th>\n",
       "      <td>283726.0</td>\n",
       "      <td>0.001667</td>\n",
       "      <td>0.040796</td>\n",
       "      <td>0.000000</td>\n",
       "      <td>0.000000</td>\n",
       "      <td>0.000000</td>\n",
       "      <td>0.000000</td>\n",
       "      <td>1.000000</td>\n",
       "    </tr>\n",
       "  </tbody>\n",
       "</table>\n",
       "</div>"
      ],
      "text/plain": [
       "           count          mean           std         min           25%  \\\n",
       "Time    283726.0  94811.077600  47481.047891    0.000000  54204.750000   \n",
       "V1      283726.0      0.005917      1.948026  -56.407510     -0.915951   \n",
       "V2      283726.0     -0.004135      1.646703  -72.715728     -0.600321   \n",
       "V3      283726.0      0.001613      1.508682  -48.325589     -0.889682   \n",
       "V4      283726.0     -0.002966      1.414184   -5.683171     -0.850134   \n",
       "V5      283726.0      0.001828      1.377008 -113.743307     -0.689830   \n",
       "V6      283726.0     -0.001139      1.331931  -26.160506     -0.769031   \n",
       "V7      283726.0      0.001801      1.227664  -43.557242     -0.552509   \n",
       "V8      283726.0     -0.000854      1.179054  -73.216718     -0.208828   \n",
       "V9      283726.0     -0.001596      1.095492  -13.434066     -0.644221   \n",
       "V10     283726.0     -0.001441      1.076407  -24.588262     -0.535578   \n",
       "V11     283726.0      0.000202      1.018720   -4.797473     -0.761649   \n",
       "V12     283726.0     -0.000715      0.994674  -18.683715     -0.406198   \n",
       "V13     283726.0      0.000603      0.995430   -5.791881     -0.647862   \n",
       "V14     283726.0      0.000252      0.952215  -19.214325     -0.425732   \n",
       "V15     283726.0      0.001043      0.914894   -4.498945     -0.581452   \n",
       "V16     283726.0      0.001162      0.873696  -14.129855     -0.466860   \n",
       "V17     283726.0      0.000170      0.842507  -25.162799     -0.483928   \n",
       "V18     283726.0      0.001515      0.837378   -9.498746     -0.498014   \n",
       "V19     283726.0     -0.000264      0.813379   -7.213527     -0.456289   \n",
       "V20     283726.0      0.000187      0.769984  -54.497720     -0.211469   \n",
       "V21     283726.0     -0.000371      0.723909  -34.830382     -0.228305   \n",
       "V22     283726.0     -0.000015      0.724550  -10.933144     -0.542700   \n",
       "V23     283726.0      0.000198      0.623702  -44.807735     -0.161703   \n",
       "V24     283726.0      0.000214      0.605627   -2.836627     -0.354453   \n",
       "V25     283726.0     -0.000232      0.521220  -10.295397     -0.317485   \n",
       "V26     283726.0      0.000149      0.482053   -2.604551     -0.326763   \n",
       "V27     283726.0      0.001763      0.395744  -22.565679     -0.070641   \n",
       "V28     283726.0      0.000547      0.328027  -15.430084     -0.052818   \n",
       "Amount  283726.0     88.472687    250.399437    0.000000      5.600000   \n",
       "Class   283726.0      0.001667      0.040796    0.000000      0.000000   \n",
       "\n",
       "                 50%            75%            max  \n",
       "Time    84692.500000  139298.000000  172792.000000  \n",
       "V1          0.020384       1.316068       2.454930  \n",
       "V2          0.063949       0.800283      22.057729  \n",
       "V3          0.179963       1.026960       9.382558  \n",
       "V4         -0.022248       0.739647      16.875344  \n",
       "V5         -0.053468       0.612218      34.801666  \n",
       "V6         -0.275168       0.396792      73.301626  \n",
       "V7          0.040859       0.570474     120.589494  \n",
       "V8          0.021898       0.325704      20.007208  \n",
       "V9         -0.052596       0.595977      15.594995  \n",
       "V10        -0.093237       0.453619      23.745136  \n",
       "V11        -0.032306       0.739579      12.018913  \n",
       "V12         0.139072       0.616976       7.848392  \n",
       "V13        -0.012927       0.663178       7.126883  \n",
       "V14         0.050209       0.492336      10.526766  \n",
       "V15         0.049299       0.650104       8.877742  \n",
       "V16         0.067119       0.523512      17.315112  \n",
       "V17        -0.065867       0.398972       9.253526  \n",
       "V18        -0.002142       0.501956       5.041069  \n",
       "V19         0.003367       0.458508       5.591971  \n",
       "V20        -0.062353       0.133207      39.420904  \n",
       "V21        -0.029441       0.186194      27.202839  \n",
       "V22         0.006675       0.528245      10.503090  \n",
       "V23        -0.011159       0.147748      22.528412  \n",
       "V24         0.041016       0.439738       4.584549  \n",
       "V25         0.016278       0.350667       7.519589  \n",
       "V26        -0.052172       0.240261       3.517346  \n",
       "V27         0.001479       0.091208      31.612198  \n",
       "V28         0.011288       0.078276      33.847808  \n",
       "Amount     22.000000      77.510000   25691.160000  \n",
       "Class       0.000000       0.000000       1.000000  "
      ]
     },
     "execution_count": 24,
     "metadata": {},
     "output_type": "execute_result"
    }
   ],
   "source": [
    "df.describe().T"
   ]
  },
  {
   "cell_type": "code",
   "execution_count": 25,
   "metadata": {},
   "outputs": [
    {
     "data": {
      "text/html": [
       "        <script type=\"text/javascript\">\n",
       "        window.PlotlyConfig = {MathJaxConfig: 'local'};\n",
       "        if (window.MathJax) {MathJax.Hub.Config({SVG: {font: \"STIX-Web\"}});}\n",
       "        if (typeof require !== 'undefined') {\n",
       "        require.undef(\"plotly\");\n",
       "        requirejs.config({\n",
       "            paths: {\n",
       "                'plotly': ['https://cdn.plot.ly/plotly-latest.min']\n",
       "            }\n",
       "        });\n",
       "        require(['plotly'], function(Plotly) {\n",
       "            window._Plotly = Plotly;\n",
       "        });\n",
       "        }\n",
       "        </script>\n",
       "        "
      ]
     },
     "metadata": {},
     "output_type": "display_data"
    },
    {
     "data": {
      "text/html": [
       "        <script type=\"text/javascript\">\n",
       "        window.PlotlyConfig = {MathJaxConfig: 'local'};\n",
       "        if (window.MathJax) {MathJax.Hub.Config({SVG: {font: \"STIX-Web\"}});}\n",
       "        if (typeof require !== 'undefined') {\n",
       "        require.undef(\"plotly\");\n",
       "        requirejs.config({\n",
       "            paths: {\n",
       "                'plotly': ['https://cdn.plot.ly/plotly-latest.min']\n",
       "            }\n",
       "        });\n",
       "        require(['plotly'], function(Plotly) {\n",
       "            window._Plotly = Plotly;\n",
       "        });\n",
       "        }\n",
       "        </script>\n",
       "        "
      ]
     },
     "metadata": {},
     "output_type": "display_data"
    }
   ],
   "source": [
    "from sklearn.utils import shuffle, class_weight\n",
    "from sklearn import preprocessing\n",
    "from sklearn.preprocessing import StandardScaler\n",
    "from sklearn.model_selection import train_test_split\n",
    "from sklearn.metrics import accuracy_score, classification_report, confusion_matrix\n",
    "import cufflinks as cf\n",
    "from plotly.offline import download_plotlyjs, init_notebook_mode, plot, iplot\n",
    "init_notebook_mode(connected=True)\n",
    "cf.go_offline()\n"
   ]
  },
  {
   "cell_type": "code",
   "execution_count": 26,
   "metadata": {},
   "outputs": [],
   "source": [
    "\n",
    "corr = df.corr(method = 'spearman')\n"
   ]
  },
  {
   "cell_type": "code",
   "execution_count": 27,
   "metadata": {},
   "outputs": [
    {
     "data": {
      "application/vnd.plotly.v1+json": {
       "config": {
        "linkText": "Export to plot.ly",
        "plotlyServerURL": "https://plot.ly",
        "showLink": true
       },
       "data": [
        {
         "colorscale": [
          [
           0.0,
           "rgb(103,0,31)"
          ],
          [
           0.1,
           "rgb(178,24,43)"
          ],
          [
           0.2,
           "rgb(214,96,77)"
          ],
          [
           0.3,
           "rgb(244,165,130)"
          ],
          [
           0.4,
           "rgb(253,219,199)"
          ],
          [
           0.5,
           "rgb(247,247,247)"
          ],
          [
           0.6,
           "rgb(209,229,240)"
          ],
          [
           0.7,
           "rgb(146,197,222)"
          ],
          [
           0.8,
           "rgb(67,147,195)"
          ],
          [
           0.9,
           "rgb(33,102,172)"
          ],
          [
           1.0,
           "rgb(5,48,97)"
          ]
         ],
         "type": "heatmap",
         "x": [
          "Time",
          "V1",
          "V2",
          "V3",
          "V4",
          "V5",
          "V6",
          "V7",
          "V8",
          "V9",
          "V10",
          "V11",
          "V12",
          "V13",
          "V14",
          "V15",
          "V16",
          "V17",
          "V18",
          "V19",
          "V20",
          "V21",
          "V22",
          "V23",
          "V24",
          "V25",
          "V26",
          "V27",
          "V28",
          "Amount",
          "Class"
         ],
         "y": [
          "Time",
          "V1",
          "V2",
          "V3",
          "V4",
          "V5",
          "V6",
          "V7",
          "V8",
          "V9",
          "V10",
          "V11",
          "V12",
          "V13",
          "V14",
          "V15",
          "V16",
          "V17",
          "V18",
          "V19",
          "V20",
          "V21",
          "V22",
          "V23",
          "V24",
          "V25",
          "V26",
          "V27",
          "V28",
          "Amount",
          "Class"
         ],
         "z": [
          [
           1.0,
           0.1911683288535496,
           0.00664484142402784,
           0.4738333253068669,
           0.14258351697172308,
           0.22592129285208826,
           0.11145008841536122,
           0.11676659374267645,
           0.10426573187775665,
           0.018631009709145285,
           0.014538542991680097,
           0.22768835695209028,
           0.07428174629950775,
           0.04538219494225614,
           0.09315292799476561,
           0.2062450008016956,
           0.0018735088319242585,
           0.10211885384221969,
           0.09076293178272453,
           0.025602959488490104,
           0.12038290685451349,
           0.09624483281073555,
           0.13212150520412277,
           0.14912602949223694,
           0.015755735682194166,
           0.25930758550180993,
           0.0002380916169880717,
           0.03492177375751891,
           0.1431021779077634,
           0.039793438707637366,
           0.011910772556846586
          ],
          [
           0.1911683288535496,
           1.0,
           0.38261274587514443,
           0.4140408554642608,
           0.10172906194880232,
           0.10916694524615234,
           0.08592386508956047,
           0.2303027344531559,
           0.23504608635557936,
           0.1397229365398101,
           0.23304098450149494,
           0.013190615276862936,
           0.004153326273184325,
           0.04756215056482287,
           0.02403780022889662,
           0.029743364003262402,
           0.037330420093221794,
           0.05657038554236562,
           0.044911400795315,
           0.032279093147907174,
           0.21064289982142897,
           0.06284554681870716,
           0.0294385306506914,
           0.14564811143381523,
           0.0010862723117530438,
           0.04933905458145658,
           0.006331891985396654,
           0.10734516739739457,
           0.20930553922208534,
           0.08731381208061684,
           0.04091797504729324
          ],
          [
           0.00664484142402784,
           0.38261274587514443,
           1.0,
           0.0749283568723257,
           0.15523959697985257,
           0.34585604888052257,
           0.11148397917034643,
           0.4290223831904049,
           0.005361454787083814,
           0.07801656631702789,
           0.21377587247731725,
           0.012662568343336962,
           0.05252980539885382,
           0.0292884592148115,
           0.08770415305319729,
           0.039469927831454185,
           0.06958478698661558,
           0.0036637285242276754,
           0.012401616421778965,
           0.0014783419848280854,
           0.04118135959831868,
           0.09827474784236256,
           0.05673310727055086,
           0.09554437632623099,
           0.01322130402237846,
           0.08687958429762727,
           0.034273587017412975,
           0.1311773643348889,
           0.1394342819093068,
           0.502957500407527,
           0.049434859298409475
          ],
          [
           0.4738333253068669,
           0.4140408554642608,
           0.0749283568723257,
           1.0,
           0.06055881787930425,
           0.2251702049483432,
           0.17079410015907434,
           0.0752469734145577,
           0.16576727692201948,
           0.031602641179029264,
           0.07161373370687432,
           0.05574914782388835,
           0.051517446207700136,
           0.007238050454475224,
           0.12916654261894442,
           0.050833557736193226,
           0.04585043618436232,
           0.03541836988366368,
           0.04507557352592819,
           0.01597509871648846,
           0.10716083660236966,
           0.03914048156137403,
           0.00461370245560264,
           0.13976656882839275,
           0.0006498264951866901,
           0.03233089147433186,
           0.01657941740380345,
           0.14150058041715557,
           0.18077154590215655,
           0.0003464193447759044,
           0.057749789896748505
          ],
          [
           0.14258351697172308,
           0.10172906194880232,
           0.15523959697985257,
           0.06055881787930425,
           1.0,
           0.021558210178163766,
           0.0741809582191788,
           0.06118968889477061,
           0.010269174386712062,
           0.10596074922905975,
           0.024818771121824398,
           0.012881202733540688,
           0.14831362485335667,
           0.0244799067281219,
           0.10003913820988634,
           0.054540194971642794,
           0.040180655964334774,
           0.04854062968072033,
           0.022203058660599333,
           0.018657010889304295,
           0.00917462417042355,
           0.03926891273276836,
           0.004811402764072403,
           0.009917992147025847,
           0.008884866919470677,
           0.06055207274780836,
           0.06359559248429719,
           0.03313412122399778,
           0.004967278177040401,
           0.020948280475451865,
           0.06165241396780695
          ],
          [
           0.22592129285208826,
           0.10916694524615234,
           0.34585604888052257,
           0.2251702049483432,
           0.021558210178163766,
           1.0,
           0.007672959118679267,
           0.4308903427091053,
           0.054537958343339174,
           0.05598061577487884,
           0.1568366154428,
           0.009545005539224445,
           0.04713355224734894,
           0.019490995556926953,
           0.03643563018200072,
           0.04194595017881938,
           0.006783008850839057,
           0.1450793876790707,
           0.016579771236290508,
           0.012578789282411282,
           0.0563673627177233,
           0.040012628168144666,
           0.011457221568818924,
           0.10748589830947454,
           0.022785993742669614,
           0.01572559639876516,
           0.03033175354329448,
           0.01335715988507165,
           0.027438571574440556,
           0.3145000954055922,
           0.02827918045757883
          ],
          [
           0.11145008841536122,
           0.08592386508956047,
           0.11148397917034643,
           0.17079410015907434,
           0.0741809582191788,
           0.007672959118679267,
           1.0,
           0.29315208220878247,
           0.445178422195985,
           0.02820442643290501,
           0.06336365653049411,
           0.05963272551799073,
           0.036899973416216154,
           0.003531743278311202,
           0.06844157585522823,
           0.046465597070966584,
           0.019352323513483767,
           0.028456710640176384,
           0.05349465961754666,
           0.03185346772388746,
           0.053143677330556825,
           0.035696642827825656,
           0.04083468398116454,
           0.05063679306982331,
           0.1347194602894769,
           0.01037213882564125,
           0.023911052144481273,
           0.07429060842736232,
           0.020902080914449558,
           0.20623450857977482,
           0.03797907262590198
          ],
          [
           0.11676659374267645,
           0.2303027344531559,
           0.4290223831904049,
           0.0752469734145577,
           0.06118968889477061,
           0.4308903427091053,
           0.29315208220878247,
           1.0,
           0.3877622332541028,
           0.10014154080010504,
           0.21033779292014917,
           0.0025668329986220356,
           0.042407374497279694,
           0.015647585768382325,
           0.06002134458833867,
           0.052160518887930725,
           0.12018820223133796,
           0.14587935023399368,
           0.070987287774944,
           0.001187115851651308,
           0.16050229140460492,
           0.021197881333543653,
           0.02430631975871233,
           0.18551535045239695,
           0.012940475473769815,
           0.04692383971767273,
           0.01777359862235751,
           0.09441184622705259,
           0.05740828018965551,
           0.030311514801454335,
           0.046583059806013204
          ],
          [
           0.10426573187775665,
           0.23504608635557936,
           0.005361454787083814,
           0.16576727692201948,
           0.010269174386712062,
           0.054537958343339174,
           0.445178422195985,
           0.3877622332541028,
           1.0,
           0.0025474822797017373,
           0.11976070300633258,
           0.05521859981846602,
           0.1043247328792201,
           0.14550914200514722,
           0.0392090433831566,
           0.015592625984436356,
           0.08928979140434422,
           0.0731463870239618,
           0.06706170344115278,
           0.03392060832640789,
           0.007122368045779142,
           0.07637489404048173,
           0.02079841330364062,
           0.0746717608657894,
           0.02451679110736359,
           0.07439752925280863,
           0.008571187674848888,
           0.19086708752829082,
           0.0896727447284798,
           0.004132723604247776,
           0.02294547647533328
          ],
          [
           0.018631009709145285,
           0.1397229365398101,
           0.07801656631702789,
           0.031602641179029264,
           0.10596074922905975,
           0.05598061577487884,
           0.02820442643290501,
           0.10014154080010504,
           0.0025474822797017373,
           1.0,
           0.293712748827646,
           0.03140746591002106,
           0.10335961845850565,
           0.04736722577650843,
           0.030403089090460196,
           0.004265764210953683,
           0.03086952557158659,
           0.06894380822728885,
           0.01439819697095383,
           0.003062777740626578,
           0.015624737761662927,
           0.06486212870369482,
           0.002345342211330278,
           0.07425898469901993,
           0.0014224237508501782,
           0.022544569080614314,
           0.027304933314708738,
           0.0014454229781004748,
           0.10406454502226849,
           0.0779487634356271,
           0.0482311613106958
          ],
          [
           0.014538542991680097,
           0.23304098450149494,
           0.21377587247731725,
           0.07161373370687432,
           0.024818771121824398,
           0.1568366154428,
           0.06336365653049411,
           0.21033779292014917,
           0.11976070300633258,
           0.293712748827646,
           1.0,
           0.03368287123169924,
           0.16424194237855264,
           0.0009194960739353604,
           0.006005540704239143,
           0.028320516493851637,
           0.05479526719533803,
           0.14727432180984343,
           0.05317666836725479,
           0.03990923432967624,
           0.0886659202669249,
           0.04635686677855825,
           0.041545810977322996,
           0.07819858462609611,
           0.007843315372722835,
           0.017018825431766662,
           0.026731862677461922,
           0.019247219554271267,
           0.13020050219769855,
           0.05557963641787967,
           0.05802418358430125
          ],
          [
           0.22768835695209028,
           0.013190615276862936,
           0.012662568343336962,
           0.05574914782388835,
           0.012881202733540688,
           0.009545005539224445,
           0.05963272551799073,
           0.0025668329986220356,
           0.05521859981846602,
           0.03140746591002106,
           0.03368287123169924,
           1.0,
           0.19819142434034345,
           0.035177598245035836,
           0.1533166409136424,
           0.03739233320235205,
           0.07041219527016623,
           0.07498544639891294,
           0.06937782113847671,
           0.01004006518738145,
           0.04203660876878655,
           0.0008488006790000951,
           3.898316609885476e-05,
           0.03190651307894513,
           0.005211257903722104,
           0.005330743584935672,
           0.0059954633557866305,
           0.026626563649278276,
           0.027620131915447953,
           0.04431811894267605,
           0.05862357434673744
          ],
          [
           0.07428174629950775,
           0.004153326273184325,
           0.05252980539885382,
           0.051517446207700136,
           0.14831362485335667,
           0.04713355224734894,
           0.036899973416216154,
           0.042407374497279694,
           0.1043247328792201,
           0.10335961845850565,
           0.16424194237855264,
           0.19819142434034345,
           1.0,
           0.18705621470310296,
           0.05406934486370474,
           0.06747269398174878,
           0.11893450781395974,
           0.20714553653347026,
           0.06528210738718529,
           0.01912187850281107,
           0.014966638655967049,
           0.030850873755921403,
           0.013434783236679605,
           0.08043878579806327,
           0.0017197959752002362,
           0.003234325734933204,
           0.011631444817429091,
           0.029099353177847724,
           0.007919553320125812,
           0.03873965450361751,
           0.06139819033012574
          ],
          [
           0.04538219494225614,
           0.04756215056482287,
           0.0292884592148115,
           0.007238050454475224,
           0.0244799067281219,
           0.019490995556926953,
           0.003531743278311202,
           0.015647585768382325,
           0.14550914200514722,
           0.04736722577650843,
           0.0009194960739353604,
           0.035177598245035836,
           0.18705621470310296,
           1.0,
           0.0937371128610633,
           0.014831407429931895,
           0.00043909157051065414,
           0.016840382687648047,
           0.010033681405320762,
           0.0060828423545243255,
           0.10124923796647642,
           0.050229107949173325,
           0.007246065616553638,
           0.0018203701526296621,
           0.0046382952293172255,
           0.0030959191877065638,
           0.0040162941504773035,
           0.0034096751283895724,
           0.006612317643797521,
           0.005937516973510084,
           0.0031116784863365627
          ],
          [
           0.09315292799476561,
           0.02403780022889662,
           0.08770415305319729,
           0.12916654261894442,
           0.10003913820988634,
           0.03643563018200072,
           0.06844157585522823,
           0.06002134458833867,
           0.0392090433831566,
           0.030403089090460196,
           0.006005540704239143,
           0.1533166409136424,
           0.05406934486370474,
           0.0937371128610633,
           1.0,
           0.020145654303252474,
           0.1289405973711185,
           0.16761875534688073,
           0.028367666521418783,
           0.02194343061897903,
           0.10509834970966177,
           0.08334447702575258,
           0.008713911571044772,
           0.01579837135099477,
           0.02258569598527801,
           0.035313853750403496,
           0.004993075581842662,
           0.09169057434144773,
           0.018367347653753533,
           0.004688882991750852,
           0.06319053374516205
          ],
          [
           0.2062450008016956,
           0.029743364003262402,
           0.039469927831454185,
           0.050833557736193226,
           0.054540194971642794,
           0.04194595017881938,
           0.046465597070966584,
           0.052160518887930725,
           0.015592625984436356,
           0.004265764210953683,
           0.028320516493851637,
           0.03739233320235205,
           0.06747269398174878,
           0.014831407429931895,
           0.020145654303252474,
           1.0,
           0.013633086470120357,
           0.023618458442671082,
           0.012713503896655544,
           0.05415062539603552,
           0.09379274099251304,
           0.031119544532008565,
           0.000518483218815867,
           0.032859885992943295,
           0.023026108079034355,
           0.011401795447416815,
           0.017809574967311396,
           0.029113952235478524,
           0.03913160324102167,
           0.07244975713088461,
           0.0020821199036716725
          ],
          [
           0.0018735088319242585,
           0.037330420093221794,
           0.06958478698661558,
           0.04585043618436232,
           0.040180655964334774,
           0.006783008850839057,
           0.019352323513483767,
           0.12018820223133796,
           0.08928979140434422,
           0.03086952557158659,
           0.05479526719533803,
           0.07041219527016623,
           0.11893450781395974,
           0.00043909157051065414,
           0.1289405973711185,
           0.013633086470120357,
           1.0,
           0.23707209037879198,
           0.02125373276945088,
           0.018535851649263285,
           0.17820203878250776,
           0.09091272817391426,
           0.04539049330572772,
           0.04436641707491041,
           0.030638847672248115,
           0.015265007063514692,
           0.041253325635344444,
           0.04698786504577928,
           0.010728759299765214,
           0.1076553333020072,
           0.04825229334600207
          ],
          [
           0.10211885384221969,
           0.05657038554236562,
           0.0036637285242276754,
           0.03541836988366368,
           0.04854062968072033,
           0.1450793876790707,
           0.028456710640176384,
           0.14587935023399368,
           0.0731463870239618,
           0.06894380822728885,
           0.14727432180984343,
           0.07498544639891294,
           0.20714553653347026,
           0.016840382687648047,
           0.16761875534688073,
           0.023618458442671082,
           0.23707209037879198,
           1.0,
           0.15779426148783546,
           0.044978005131985736,
           0.016452892580372514,
           0.009558780669058202,
           0.013003699490764358,
           0.03668526523893976,
           0.053014276755664384,
           0.0042932927174922425,
           0.008231094194148572,
           0.04606604743901569,
           0.06484477939943353,
           0.05449179374508115,
           0.04246330127694007
          ],
          [
           0.09076293178272453,
           0.044911400795315,
           0.012401616421778965,
           0.04507557352592819,
           0.022203058660599333,
           0.016579771236290508,
           0.05349465961754666,
           0.070987287774944,
           0.06706170344115278,
           0.01439819697095383,
           0.05317666836725479,
           0.06937782113847671,
           0.06528210738718529,
           0.010033681405320762,
           0.028367666521418783,
           0.012713503896655544,
           0.02125373276945088,
           0.15779426148783546,
           1.0,
           0.004664034489877415,
           0.10703958914871627,
           0.02494738851433383,
           0.057039825441434086,
           0.1093403103420502,
           0.04849395155710676,
           0.006040822880337683,
           0.02758084941356745,
           0.019621951928445236,
           0.022456869523615555,
           0.04762761193028773,
           0.03295721752945667
          ],
          [
           0.025602959488490104,
           0.032279093147907174,
           0.0014783419848280854,
           0.01597509871648846,
           0.018657010889304295,
           0.012578789282411282,
           0.03185346772388746,
           0.001187115851651308,
           0.03392060832640789,
           0.003062777740626578,
           0.03990923432967624,
           0.01004006518738145,
           0.01912187850281107,
           0.0060828423545243255,
           0.02194343061897903,
           0.05415062539603552,
           0.018535851649263285,
           0.044978005131985736,
           0.004664034489877415,
           1.0,
           0.2332259332855315,
           0.004325287280906628,
           0.010989222174214898,
           0.07859144368374496,
           0.05564482127508831,
           0.003501890447402895,
           0.01473333342047055,
           0.01816746867877654,
           0.04080833699583064,
           0.009240764678755838,
           0.022106753862899512
          ],
          [
           0.12038290685451349,
           0.21064289982142897,
           0.04118135959831868,
           0.10716083660236966,
           0.00917462417042355,
           0.0563673627177233,
           0.053143677330556825,
           0.16050229140460492,
           0.007122368045779142,
           0.015624737761662927,
           0.0886659202669249,
           0.04203660876878655,
           0.014966638655967049,
           0.10124923796647642,
           0.10509834970966177,
           0.09379274099251304,
           0.17820203878250776,
           0.016452892580372514,
           0.10703958914871627,
           0.2332259332855315,
           1.0,
           0.11619199481665524,
           0.034372895367217805,
           0.19469845525118917,
           0.04135716549023697,
           0.04462648359731216,
           0.04640185329138152,
           0.1033537885831874,
           0.2756008870907824,
           0.201658401187002,
           0.02214501493491031
          ],
          [
           0.09624483281073555,
           0.06284554681870716,
           0.09827474784236256,
           0.03914048156137403,
           0.03926891273276836,
           0.040012628168144666,
           0.035696642827825656,
           0.021197881333543653,
           0.07637489404048173,
           0.06486212870369482,
           0.04635686677855825,
           0.0008488006790000951,
           0.030850873755921403,
           0.050229107949173325,
           0.08334447702575258,
           0.031119544532008565,
           0.09091272817391426,
           0.009558780669058202,
           0.02494738851433383,
           0.004325287280906628,
           0.11619199481665524,
           1.0,
           0.6774675331811408,
           0.25077759529139415,
           0.03207865207411974,
           0.03725130999737064,
           0.041737255014591385,
           0.026695445127681194,
           0.06731766249369489,
           0.19497387685813894,
           0.0343749657148658
          ],
          [
           0.13212150520412277,
           0.0294385306506914,
           0.05673310727055086,
           0.00461370245560264,
           0.004811402764072403,
           0.011457221568818924,
           0.04083468398116454,
           0.02430631975871233,
           0.02079841330364062,
           0.002345342211330278,
           0.041545810977322996,
           3.898316609885476e-05,
           0.013434783236679605,
           0.007246065616553638,
           0.008713911571044772,
           0.000518483218815867,
           0.04539049330572772,
           0.013003699490764358,
           0.057039825441434086,
           0.010989222174214898,
           0.034372895367217805,
           0.6774675331811408,
           1.0,
           0.23928142358774143,
           0.014792025786401305,
           0.028632935006143837,
           0.0414610637718688,
           0.07346619858505977,
           0.03649142109285044,
           0.08089420519351982,
           0.0024528176155561823
          ],
          [
           0.14912602949223694,
           0.14564811143381523,
           0.09554437632623099,
           0.13976656882839275,
           0.009917992147025847,
           0.10748589830947454,
           0.05063679306982331,
           0.18551535045239695,
           0.0746717608657894,
           0.07425898469901993,
           0.07819858462609611,
           0.03190651307894513,
           0.08043878579806327,
           0.0018203701526296621,
           0.01579837135099477,
           0.032859885992943295,
           0.04436641707491041,
           0.03668526523893976,
           0.1093403103420502,
           0.07859144368374496,
           0.19469845525118917,
           0.25077759529139415,
           0.23928142358774143,
           1.0,
           0.09705530521306369,
           0.4262594338546332,
           0.0022008408845889567,
           0.04782366994081933,
           0.07054973188564422,
           0.05772434063838158,
           0.005779671252950191
          ],
          [
           0.015755735682194166,
           0.0010862723117530438,
           0.01322130402237846,
           0.0006498264951866901,
           0.008884866919470677,
           0.022785993742669614,
           0.1347194602894769,
           0.012940475473769815,
           0.02451679110736359,
           0.0014224237508501782,
           0.007843315372722835,
           0.005211257903722104,
           0.0017197959752002362,
           0.0046382952293172255,
           0.02258569598527801,
           0.023026108079034355,
           0.030638847672248115,
           0.053014276755664384,
           0.04849395155710676,
           0.05564482127508831,
           0.04135716549023697,
           0.03207865207411974,
           0.014792025786401305,
           0.09705530521306369,
           1.0,
           0.0010653556230699108,
           0.0057163305429217244,
           0.03669552624849423,
           0.04664252262241941,
           0.012929280109121293,
           0.009099226669705082
          ],
          [
           0.25930758550180993,
           0.04933905458145658,
           0.08687958429762727,
           0.03233089147433186,
           0.06055207274780836,
           0.01572559639876516,
           0.01037213882564125,
           0.04692383971767273,
           0.07439752925280863,
           0.022544569080614314,
           0.017018825431766662,
           0.005330743584935672,
           0.003234325734933204,
           0.0030959191877065638,
           0.035313853750403496,
           0.011401795447416815,
           0.015265007063514692,
           0.0042932927174922425,
           0.006040822880337683,
           0.003501890447402895,
           0.04462648359731216,
           0.03725130999737064,
           0.028632935006143837,
           0.4262594338546332,
           0.0010653556230699108,
           1.0,
           0.0528433603949021,
           0.09242605284705636,
           0.052566418161214365,
           0.023706558177650747,
           0.004546653805649159
          ],
          [
           0.0002380916169880717,
           0.006331891985396654,
           0.034273587017412975,
           0.01657941740380345,
           0.06359559248429719,
           0.03033175354329448,
           0.023911052144481273,
           0.01777359862235751,
           0.008571187674848888,
           0.027304933314708738,
           0.026731862677461922,
           0.0059954633557866305,
           0.011631444817429091,
           0.0040162941504773035,
           0.004993075581842662,
           0.017809574967311396,
           0.041253325635344444,
           0.008231094194148572,
           0.02758084941356745,
           0.01473333342047055,
           0.04640185329138152,
           0.041737255014591385,
           0.0414610637718688,
           0.0022008408845889567,
           0.0057163305429217244,
           0.0528433603949021,
           1.0,
           0.16464755515506715,
           0.02180718288604631,
           0.06729645536706783,
           0.005323583621221992
          ],
          [
           0.03492177375751891,
           0.10734516739739457,
           0.1311773643348889,
           0.14150058041715557,
           0.03313412122399778,
           0.01335715988507165,
           0.07429060842736232,
           0.09441184622705259,
           0.19086708752829082,
           0.0014454229781004748,
           0.019247219554271267,
           0.026626563649278276,
           0.029099353177847724,
           0.0034096751283895724,
           0.09169057434144773,
           0.029113952235478524,
           0.04698786504577928,
           0.04606604743901569,
           0.019621951928445236,
           0.01816746867877654,
           0.1033537885831874,
           0.026695445127681194,
           0.07346619858505977,
           0.04782366994081933,
           0.03669552624849423,
           0.09242605284705636,
           0.16464755515506715,
           1.0,
           0.4587475493861663,
           0.1279381906176273,
           0.028511080126246268
          ],
          [
           0.1431021779077634,
           0.20930553922208534,
           0.1394342819093068,
           0.18077154590215655,
           0.004967278177040401,
           0.027438571574440556,
           0.020902080914449558,
           0.05740828018965551,
           0.0896727447284798,
           0.10406454502226849,
           0.13020050219769855,
           0.027620131915447953,
           0.007919553320125812,
           0.006612317643797521,
           0.018367347653753533,
           0.03913160324102167,
           0.010728759299765214,
           0.06484477939943353,
           0.022456869523615555,
           0.04080833699583064,
           0.2756008870907824,
           0.06731766249369489,
           0.03649142109285044,
           0.07054973188564422,
           0.04664252262241941,
           0.052566418161214365,
           0.02180718288604631,
           0.4587475493861663,
           1.0,
           0.010166255492203919,
           0.02068254919410665
          ],
          [
           0.039793438707637366,
           0.08731381208061684,
           0.502957500407527,
           0.0003464193447759044,
           0.020948280475451865,
           0.3145000954055922,
           0.20623450857977482,
           0.030311514801454335,
           0.004132723604247776,
           0.0779487634356271,
           0.05557963641787967,
           0.04431811894267605,
           0.03873965450361751,
           0.005937516973510084,
           0.004688882991750852,
           0.07244975713088461,
           0.1076553333020072,
           0.05449179374508115,
           0.04762761193028773,
           0.009240764678755838,
           0.201658401187002,
           0.19497387685813894,
           0.08089420519351982,
           0.05772434063838158,
           0.012929280109121293,
           0.023706558177650747,
           0.06729645536706783,
           0.1279381906176273,
           0.010166255492203919,
           1.0,
           0.007882288853356088
          ],
          [
           0.011910772556846586,
           0.04091797504729324,
           0.049434859298409475,
           0.057749789896748505,
           0.06165241396780695,
           0.02827918045757883,
           0.03797907262590198,
           0.046583059806013204,
           0.02294547647533328,
           0.0482311613106958,
           0.05802418358430125,
           0.05862357434673744,
           0.06139819033012574,
           0.0031116784863365627,
           0.06319053374516205,
           0.0020821199036716725,
           0.04825229334600207,
           0.04246330127694007,
           0.03295721752945667,
           0.022106753862899512,
           0.02214501493491031,
           0.0343749657148658,
           0.0024528176155561823,
           0.005779671252950191,
           0.009099226669705082,
           0.004546653805649159,
           0.005323583621221992,
           0.028511080126246268,
           0.02068254919410665,
           0.007882288853356088,
           1.0
          ]
         ],
         "zmax": 1.0,
         "zmin": 3.898316609885476e-05
        }
       ],
       "layout": {
        "height": 600,
        "template": {
         "data": {
          "bar": [
           {
            "error_x": {
             "color": "#2a3f5f"
            },
            "error_y": {
             "color": "#2a3f5f"
            },
            "marker": {
             "line": {
              "color": "#E5ECF6",
              "width": 0.5
             }
            },
            "type": "bar"
           }
          ],
          "barpolar": [
           {
            "marker": {
             "line": {
              "color": "#E5ECF6",
              "width": 0.5
             }
            },
            "type": "barpolar"
           }
          ],
          "carpet": [
           {
            "aaxis": {
             "endlinecolor": "#2a3f5f",
             "gridcolor": "white",
             "linecolor": "white",
             "minorgridcolor": "white",
             "startlinecolor": "#2a3f5f"
            },
            "baxis": {
             "endlinecolor": "#2a3f5f",
             "gridcolor": "white",
             "linecolor": "white",
             "minorgridcolor": "white",
             "startlinecolor": "#2a3f5f"
            },
            "type": "carpet"
           }
          ],
          "choropleth": [
           {
            "colorbar": {
             "outlinewidth": 0,
             "ticks": ""
            },
            "type": "choropleth"
           }
          ],
          "contour": [
           {
            "colorbar": {
             "outlinewidth": 0,
             "ticks": ""
            },
            "colorscale": [
             [
              0.0,
              "#0d0887"
             ],
             [
              0.1111111111111111,
              "#46039f"
             ],
             [
              0.2222222222222222,
              "#7201a8"
             ],
             [
              0.3333333333333333,
              "#9c179e"
             ],
             [
              0.4444444444444444,
              "#bd3786"
             ],
             [
              0.5555555555555556,
              "#d8576b"
             ],
             [
              0.6666666666666666,
              "#ed7953"
             ],
             [
              0.7777777777777778,
              "#fb9f3a"
             ],
             [
              0.8888888888888888,
              "#fdca26"
             ],
             [
              1.0,
              "#f0f921"
             ]
            ],
            "type": "contour"
           }
          ],
          "contourcarpet": [
           {
            "colorbar": {
             "outlinewidth": 0,
             "ticks": ""
            },
            "type": "contourcarpet"
           }
          ],
          "heatmap": [
           {
            "colorbar": {
             "outlinewidth": 0,
             "ticks": ""
            },
            "colorscale": [
             [
              0.0,
              "#0d0887"
             ],
             [
              0.1111111111111111,
              "#46039f"
             ],
             [
              0.2222222222222222,
              "#7201a8"
             ],
             [
              0.3333333333333333,
              "#9c179e"
             ],
             [
              0.4444444444444444,
              "#bd3786"
             ],
             [
              0.5555555555555556,
              "#d8576b"
             ],
             [
              0.6666666666666666,
              "#ed7953"
             ],
             [
              0.7777777777777778,
              "#fb9f3a"
             ],
             [
              0.8888888888888888,
              "#fdca26"
             ],
             [
              1.0,
              "#f0f921"
             ]
            ],
            "type": "heatmap"
           }
          ],
          "heatmapgl": [
           {
            "colorbar": {
             "outlinewidth": 0,
             "ticks": ""
            },
            "colorscale": [
             [
              0.0,
              "#0d0887"
             ],
             [
              0.1111111111111111,
              "#46039f"
             ],
             [
              0.2222222222222222,
              "#7201a8"
             ],
             [
              0.3333333333333333,
              "#9c179e"
             ],
             [
              0.4444444444444444,
              "#bd3786"
             ],
             [
              0.5555555555555556,
              "#d8576b"
             ],
             [
              0.6666666666666666,
              "#ed7953"
             ],
             [
              0.7777777777777778,
              "#fb9f3a"
             ],
             [
              0.8888888888888888,
              "#fdca26"
             ],
             [
              1.0,
              "#f0f921"
             ]
            ],
            "type": "heatmapgl"
           }
          ],
          "histogram": [
           {
            "marker": {
             "colorbar": {
              "outlinewidth": 0,
              "ticks": ""
             }
            },
            "type": "histogram"
           }
          ],
          "histogram2d": [
           {
            "colorbar": {
             "outlinewidth": 0,
             "ticks": ""
            },
            "colorscale": [
             [
              0.0,
              "#0d0887"
             ],
             [
              0.1111111111111111,
              "#46039f"
             ],
             [
              0.2222222222222222,
              "#7201a8"
             ],
             [
              0.3333333333333333,
              "#9c179e"
             ],
             [
              0.4444444444444444,
              "#bd3786"
             ],
             [
              0.5555555555555556,
              "#d8576b"
             ],
             [
              0.6666666666666666,
              "#ed7953"
             ],
             [
              0.7777777777777778,
              "#fb9f3a"
             ],
             [
              0.8888888888888888,
              "#fdca26"
             ],
             [
              1.0,
              "#f0f921"
             ]
            ],
            "type": "histogram2d"
           }
          ],
          "histogram2dcontour": [
           {
            "colorbar": {
             "outlinewidth": 0,
             "ticks": ""
            },
            "colorscale": [
             [
              0.0,
              "#0d0887"
             ],
             [
              0.1111111111111111,
              "#46039f"
             ],
             [
              0.2222222222222222,
              "#7201a8"
             ],
             [
              0.3333333333333333,
              "#9c179e"
             ],
             [
              0.4444444444444444,
              "#bd3786"
             ],
             [
              0.5555555555555556,
              "#d8576b"
             ],
             [
              0.6666666666666666,
              "#ed7953"
             ],
             [
              0.7777777777777778,
              "#fb9f3a"
             ],
             [
              0.8888888888888888,
              "#fdca26"
             ],
             [
              1.0,
              "#f0f921"
             ]
            ],
            "type": "histogram2dcontour"
           }
          ],
          "mesh3d": [
           {
            "colorbar": {
             "outlinewidth": 0,
             "ticks": ""
            },
            "type": "mesh3d"
           }
          ],
          "parcoords": [
           {
            "line": {
             "colorbar": {
              "outlinewidth": 0,
              "ticks": ""
             }
            },
            "type": "parcoords"
           }
          ],
          "pie": [
           {
            "automargin": true,
            "type": "pie"
           }
          ],
          "scatter": [
           {
            "marker": {
             "colorbar": {
              "outlinewidth": 0,
              "ticks": ""
             }
            },
            "type": "scatter"
           }
          ],
          "scatter3d": [
           {
            "line": {
             "colorbar": {
              "outlinewidth": 0,
              "ticks": ""
             }
            },
            "marker": {
             "colorbar": {
              "outlinewidth": 0,
              "ticks": ""
             }
            },
            "type": "scatter3d"
           }
          ],
          "scattercarpet": [
           {
            "marker": {
             "colorbar": {
              "outlinewidth": 0,
              "ticks": ""
             }
            },
            "type": "scattercarpet"
           }
          ],
          "scattergeo": [
           {
            "marker": {
             "colorbar": {
              "outlinewidth": 0,
              "ticks": ""
             }
            },
            "type": "scattergeo"
           }
          ],
          "scattergl": [
           {
            "marker": {
             "colorbar": {
              "outlinewidth": 0,
              "ticks": ""
             }
            },
            "type": "scattergl"
           }
          ],
          "scattermapbox": [
           {
            "marker": {
             "colorbar": {
              "outlinewidth": 0,
              "ticks": ""
             }
            },
            "type": "scattermapbox"
           }
          ],
          "scatterpolar": [
           {
            "marker": {
             "colorbar": {
              "outlinewidth": 0,
              "ticks": ""
             }
            },
            "type": "scatterpolar"
           }
          ],
          "scatterpolargl": [
           {
            "marker": {
             "colorbar": {
              "outlinewidth": 0,
              "ticks": ""
             }
            },
            "type": "scatterpolargl"
           }
          ],
          "scatterternary": [
           {
            "marker": {
             "colorbar": {
              "outlinewidth": 0,
              "ticks": ""
             }
            },
            "type": "scatterternary"
           }
          ],
          "surface": [
           {
            "colorbar": {
             "outlinewidth": 0,
             "ticks": ""
            },
            "colorscale": [
             [
              0.0,
              "#0d0887"
             ],
             [
              0.1111111111111111,
              "#46039f"
             ],
             [
              0.2222222222222222,
              "#7201a8"
             ],
             [
              0.3333333333333333,
              "#9c179e"
             ],
             [
              0.4444444444444444,
              "#bd3786"
             ],
             [
              0.5555555555555556,
              "#d8576b"
             ],
             [
              0.6666666666666666,
              "#ed7953"
             ],
             [
              0.7777777777777778,
              "#fb9f3a"
             ],
             [
              0.8888888888888888,
              "#fdca26"
             ],
             [
              1.0,
              "#f0f921"
             ]
            ],
            "type": "surface"
           }
          ],
          "table": [
           {
            "cells": {
             "fill": {
              "color": "#EBF0F8"
             },
             "line": {
              "color": "white"
             }
            },
            "header": {
             "fill": {
              "color": "#C8D4E3"
             },
             "line": {
              "color": "white"
             }
            },
            "type": "table"
           }
          ]
         },
         "layout": {
          "annotationdefaults": {
           "arrowcolor": "#2a3f5f",
           "arrowhead": 0,
           "arrowwidth": 1
          },
          "coloraxis": {
           "colorbar": {
            "outlinewidth": 0,
            "ticks": ""
           }
          },
          "colorscale": {
           "diverging": [
            [
             0,
             "#8e0152"
            ],
            [
             0.1,
             "#c51b7d"
            ],
            [
             0.2,
             "#de77ae"
            ],
            [
             0.3,
             "#f1b6da"
            ],
            [
             0.4,
             "#fde0ef"
            ],
            [
             0.5,
             "#f7f7f7"
            ],
            [
             0.6,
             "#e6f5d0"
            ],
            [
             0.7,
             "#b8e186"
            ],
            [
             0.8,
             "#7fbc41"
            ],
            [
             0.9,
             "#4d9221"
            ],
            [
             1,
             "#276419"
            ]
           ],
           "sequential": [
            [
             0.0,
             "#0d0887"
            ],
            [
             0.1111111111111111,
             "#46039f"
            ],
            [
             0.2222222222222222,
             "#7201a8"
            ],
            [
             0.3333333333333333,
             "#9c179e"
            ],
            [
             0.4444444444444444,
             "#bd3786"
            ],
            [
             0.5555555555555556,
             "#d8576b"
            ],
            [
             0.6666666666666666,
             "#ed7953"
            ],
            [
             0.7777777777777778,
             "#fb9f3a"
            ],
            [
             0.8888888888888888,
             "#fdca26"
            ],
            [
             1.0,
             "#f0f921"
            ]
           ],
           "sequentialminus": [
            [
             0.0,
             "#0d0887"
            ],
            [
             0.1111111111111111,
             "#46039f"
            ],
            [
             0.2222222222222222,
             "#7201a8"
            ],
            [
             0.3333333333333333,
             "#9c179e"
            ],
            [
             0.4444444444444444,
             "#bd3786"
            ],
            [
             0.5555555555555556,
             "#d8576b"
            ],
            [
             0.6666666666666666,
             "#ed7953"
            ],
            [
             0.7777777777777778,
             "#fb9f3a"
            ],
            [
             0.8888888888888888,
             "#fdca26"
            ],
            [
             1.0,
             "#f0f921"
            ]
           ]
          },
          "colorway": [
           "#636efa",
           "#EF553B",
           "#00cc96",
           "#ab63fa",
           "#FFA15A",
           "#19d3f3",
           "#FF6692",
           "#B6E880",
           "#FF97FF",
           "#FECB52"
          ],
          "font": {
           "color": "#2a3f5f"
          },
          "geo": {
           "bgcolor": "white",
           "lakecolor": "white",
           "landcolor": "#E5ECF6",
           "showlakes": true,
           "showland": true,
           "subunitcolor": "white"
          },
          "hoverlabel": {
           "align": "left"
          },
          "hovermode": "closest",
          "mapbox": {
           "style": "light"
          },
          "paper_bgcolor": "white",
          "plot_bgcolor": "#E5ECF6",
          "polar": {
           "angularaxis": {
            "gridcolor": "white",
            "linecolor": "white",
            "ticks": ""
           },
           "bgcolor": "#E5ECF6",
           "radialaxis": {
            "gridcolor": "white",
            "linecolor": "white",
            "ticks": ""
           }
          },
          "scene": {
           "xaxis": {
            "backgroundcolor": "#E5ECF6",
            "gridcolor": "white",
            "gridwidth": 2,
            "linecolor": "white",
            "showbackground": true,
            "ticks": "",
            "zerolinecolor": "white"
           },
           "yaxis": {
            "backgroundcolor": "#E5ECF6",
            "gridcolor": "white",
            "gridwidth": 2,
            "linecolor": "white",
            "showbackground": true,
            "ticks": "",
            "zerolinecolor": "white"
           },
           "zaxis": {
            "backgroundcolor": "#E5ECF6",
            "gridcolor": "white",
            "gridwidth": 2,
            "linecolor": "white",
            "showbackground": true,
            "ticks": "",
            "zerolinecolor": "white"
           }
          },
          "shapedefaults": {
           "line": {
            "color": "#2a3f5f"
           }
          },
          "ternary": {
           "aaxis": {
            "gridcolor": "white",
            "linecolor": "white",
            "ticks": ""
           },
           "baxis": {
            "gridcolor": "white",
            "linecolor": "white",
            "ticks": ""
           },
           "bgcolor": "#E5ECF6",
           "caxis": {
            "gridcolor": "white",
            "linecolor": "white",
            "ticks": ""
           }
          },
          "title": {
           "x": 0.05
          },
          "xaxis": {
           "automargin": true,
           "gridcolor": "white",
           "linecolor": "white",
           "ticks": "",
           "title": {
            "standoff": 15
           },
           "zerolinecolor": "white",
           "zerolinewidth": 2
          },
          "yaxis": {
           "automargin": true,
           "gridcolor": "white",
           "linecolor": "white",
           "ticks": "",
           "title": {
            "standoff": 15
           },
           "zerolinecolor": "white",
           "zerolinewidth": 2
          }
         }
        },
        "width": 600
       }
      },
      "text/html": [
       "<div>\n",
       "        \n",
       "        \n",
       "            <div id=\"5bc779f0-7c99-4e64-8878-215a7b68868f\" class=\"plotly-graph-div\" style=\"height:600px; width:600px;\"></div>\n",
       "            <script type=\"text/javascript\">\n",
       "                require([\"plotly\"], function(Plotly) {\n",
       "                    window.PLOTLYENV=window.PLOTLYENV || {};\n",
       "                    window.PLOTLYENV.BASE_URL='https://plot.ly';\n",
       "                    \n",
       "                if (document.getElementById(\"5bc779f0-7c99-4e64-8878-215a7b68868f\")) {\n",
       "                    Plotly.newPlot(\n",
       "                        '5bc779f0-7c99-4e64-8878-215a7b68868f',\n",
       "                        [{\"colorscale\": [[0.0, \"rgb(103,0,31)\"], [0.1, \"rgb(178,24,43)\"], [0.2, \"rgb(214,96,77)\"], [0.3, \"rgb(244,165,130)\"], [0.4, \"rgb(253,219,199)\"], [0.5, \"rgb(247,247,247)\"], [0.6, \"rgb(209,229,240)\"], [0.7, \"rgb(146,197,222)\"], [0.8, \"rgb(67,147,195)\"], [0.9, \"rgb(33,102,172)\"], [1.0, \"rgb(5,48,97)\"]], \"type\": \"heatmap\", \"x\": [\"Time\", \"V1\", \"V2\", \"V3\", \"V4\", \"V5\", \"V6\", \"V7\", \"V8\", \"V9\", \"V10\", \"V11\", \"V12\", \"V13\", \"V14\", \"V15\", \"V16\", \"V17\", \"V18\", \"V19\", \"V20\", \"V21\", \"V22\", \"V23\", \"V24\", \"V25\", \"V26\", \"V27\", \"V28\", \"Amount\", \"Class\"], \"y\": [\"Time\", \"V1\", \"V2\", \"V3\", \"V4\", \"V5\", \"V6\", \"V7\", \"V8\", \"V9\", \"V10\", \"V11\", \"V12\", \"V13\", \"V14\", \"V15\", \"V16\", \"V17\", \"V18\", \"V19\", \"V20\", \"V21\", \"V22\", \"V23\", \"V24\", \"V25\", \"V26\", \"V27\", \"V28\", \"Amount\", \"Class\"], \"z\": [[1.0, 0.1911683288535496, 0.00664484142402784, 0.4738333253068669, 0.14258351697172308, 0.22592129285208826, 0.11145008841536122, 0.11676659374267645, 0.10426573187775665, 0.018631009709145285, 0.014538542991680097, 0.22768835695209028, 0.07428174629950775, 0.04538219494225614, 0.09315292799476561, 0.2062450008016956, 0.0018735088319242585, 0.10211885384221969, 0.09076293178272453, 0.025602959488490104, 0.12038290685451349, 0.09624483281073555, 0.13212150520412277, 0.14912602949223694, 0.015755735682194166, 0.25930758550180993, 0.0002380916169880717, 0.03492177375751891, 0.1431021779077634, 0.039793438707637366, 0.011910772556846586], [0.1911683288535496, 1.0, 0.38261274587514443, 0.4140408554642608, 0.10172906194880232, 0.10916694524615234, 0.08592386508956047, 0.2303027344531559, 0.23504608635557936, 0.1397229365398101, 0.23304098450149494, 0.013190615276862936, 0.004153326273184325, 0.04756215056482287, 0.02403780022889662, 0.029743364003262402, 0.037330420093221794, 0.05657038554236562, 0.044911400795315, 0.032279093147907174, 0.21064289982142897, 0.06284554681870716, 0.0294385306506914, 0.14564811143381523, 0.0010862723117530438, 0.04933905458145658, 0.006331891985396654, 0.10734516739739457, 0.20930553922208534, 0.08731381208061684, 0.04091797504729324], [0.00664484142402784, 0.38261274587514443, 1.0, 0.0749283568723257, 0.15523959697985257, 0.34585604888052257, 0.11148397917034643, 0.4290223831904049, 0.005361454787083814, 0.07801656631702789, 0.21377587247731725, 0.012662568343336962, 0.05252980539885382, 0.0292884592148115, 0.08770415305319729, 0.039469927831454185, 0.06958478698661558, 0.0036637285242276754, 0.012401616421778965, 0.0014783419848280854, 0.04118135959831868, 0.09827474784236256, 0.05673310727055086, 0.09554437632623099, 0.01322130402237846, 0.08687958429762727, 0.034273587017412975, 0.1311773643348889, 0.1394342819093068, 0.502957500407527, 0.049434859298409475], [0.4738333253068669, 0.4140408554642608, 0.0749283568723257, 1.0, 0.06055881787930425, 0.2251702049483432, 0.17079410015907434, 0.0752469734145577, 0.16576727692201948, 0.031602641179029264, 0.07161373370687432, 0.05574914782388835, 0.051517446207700136, 0.007238050454475224, 0.12916654261894442, 0.050833557736193226, 0.04585043618436232, 0.03541836988366368, 0.04507557352592819, 0.01597509871648846, 0.10716083660236966, 0.03914048156137403, 0.00461370245560264, 0.13976656882839275, 0.0006498264951866901, 0.03233089147433186, 0.01657941740380345, 0.14150058041715557, 0.18077154590215655, 0.0003464193447759044, 0.057749789896748505], [0.14258351697172308, 0.10172906194880232, 0.15523959697985257, 0.06055881787930425, 1.0, 0.021558210178163766, 0.0741809582191788, 0.06118968889477061, 0.010269174386712062, 0.10596074922905975, 0.024818771121824398, 0.012881202733540688, 0.14831362485335667, 0.0244799067281219, 0.10003913820988634, 0.054540194971642794, 0.040180655964334774, 0.04854062968072033, 0.022203058660599333, 0.018657010889304295, 0.00917462417042355, 0.03926891273276836, 0.004811402764072403, 0.009917992147025847, 0.008884866919470677, 0.06055207274780836, 0.06359559248429719, 0.03313412122399778, 0.004967278177040401, 0.020948280475451865, 0.06165241396780695], [0.22592129285208826, 0.10916694524615234, 0.34585604888052257, 0.2251702049483432, 0.021558210178163766, 1.0, 0.007672959118679267, 0.4308903427091053, 0.054537958343339174, 0.05598061577487884, 0.1568366154428, 0.009545005539224445, 0.04713355224734894, 0.019490995556926953, 0.03643563018200072, 0.04194595017881938, 0.006783008850839057, 0.1450793876790707, 0.016579771236290508, 0.012578789282411282, 0.0563673627177233, 0.040012628168144666, 0.011457221568818924, 0.10748589830947454, 0.022785993742669614, 0.01572559639876516, 0.03033175354329448, 0.01335715988507165, 0.027438571574440556, 0.3145000954055922, 0.02827918045757883], [0.11145008841536122, 0.08592386508956047, 0.11148397917034643, 0.17079410015907434, 0.0741809582191788, 0.007672959118679267, 1.0, 0.29315208220878247, 0.445178422195985, 0.02820442643290501, 0.06336365653049411, 0.05963272551799073, 0.036899973416216154, 0.003531743278311202, 0.06844157585522823, 0.046465597070966584, 0.019352323513483767, 0.028456710640176384, 0.05349465961754666, 0.03185346772388746, 0.053143677330556825, 0.035696642827825656, 0.04083468398116454, 0.05063679306982331, 0.1347194602894769, 0.01037213882564125, 0.023911052144481273, 0.07429060842736232, 0.020902080914449558, 0.20623450857977482, 0.03797907262590198], [0.11676659374267645, 0.2303027344531559, 0.4290223831904049, 0.0752469734145577, 0.06118968889477061, 0.4308903427091053, 0.29315208220878247, 1.0, 0.3877622332541028, 0.10014154080010504, 0.21033779292014917, 0.0025668329986220356, 0.042407374497279694, 0.015647585768382325, 0.06002134458833867, 0.052160518887930725, 0.12018820223133796, 0.14587935023399368, 0.070987287774944, 0.001187115851651308, 0.16050229140460492, 0.021197881333543653, 0.02430631975871233, 0.18551535045239695, 0.012940475473769815, 0.04692383971767273, 0.01777359862235751, 0.09441184622705259, 0.05740828018965551, 0.030311514801454335, 0.046583059806013204], [0.10426573187775665, 0.23504608635557936, 0.005361454787083814, 0.16576727692201948, 0.010269174386712062, 0.054537958343339174, 0.445178422195985, 0.3877622332541028, 1.0, 0.0025474822797017373, 0.11976070300633258, 0.05521859981846602, 0.1043247328792201, 0.14550914200514722, 0.0392090433831566, 0.015592625984436356, 0.08928979140434422, 0.0731463870239618, 0.06706170344115278, 0.03392060832640789, 0.007122368045779142, 0.07637489404048173, 0.02079841330364062, 0.0746717608657894, 0.02451679110736359, 0.07439752925280863, 0.008571187674848888, 0.19086708752829082, 0.0896727447284798, 0.004132723604247776, 0.02294547647533328], [0.018631009709145285, 0.1397229365398101, 0.07801656631702789, 0.031602641179029264, 0.10596074922905975, 0.05598061577487884, 0.02820442643290501, 0.10014154080010504, 0.0025474822797017373, 1.0, 0.293712748827646, 0.03140746591002106, 0.10335961845850565, 0.04736722577650843, 0.030403089090460196, 0.004265764210953683, 0.03086952557158659, 0.06894380822728885, 0.01439819697095383, 0.003062777740626578, 0.015624737761662927, 0.06486212870369482, 0.002345342211330278, 0.07425898469901993, 0.0014224237508501782, 0.022544569080614314, 0.027304933314708738, 0.0014454229781004748, 0.10406454502226849, 0.0779487634356271, 0.0482311613106958], [0.014538542991680097, 0.23304098450149494, 0.21377587247731725, 0.07161373370687432, 0.024818771121824398, 0.1568366154428, 0.06336365653049411, 0.21033779292014917, 0.11976070300633258, 0.293712748827646, 1.0, 0.03368287123169924, 0.16424194237855264, 0.0009194960739353604, 0.006005540704239143, 0.028320516493851637, 0.05479526719533803, 0.14727432180984343, 0.05317666836725479, 0.03990923432967624, 0.0886659202669249, 0.04635686677855825, 0.041545810977322996, 0.07819858462609611, 0.007843315372722835, 0.017018825431766662, 0.026731862677461922, 0.019247219554271267, 0.13020050219769855, 0.05557963641787967, 0.05802418358430125], [0.22768835695209028, 0.013190615276862936, 0.012662568343336962, 0.05574914782388835, 0.012881202733540688, 0.009545005539224445, 0.05963272551799073, 0.0025668329986220356, 0.05521859981846602, 0.03140746591002106, 0.03368287123169924, 1.0, 0.19819142434034345, 0.035177598245035836, 0.1533166409136424, 0.03739233320235205, 0.07041219527016623, 0.07498544639891294, 0.06937782113847671, 0.01004006518738145, 0.04203660876878655, 0.0008488006790000951, 3.898316609885476e-05, 0.03190651307894513, 0.005211257903722104, 0.005330743584935672, 0.0059954633557866305, 0.026626563649278276, 0.027620131915447953, 0.04431811894267605, 0.05862357434673744], [0.07428174629950775, 0.004153326273184325, 0.05252980539885382, 0.051517446207700136, 0.14831362485335667, 0.04713355224734894, 0.036899973416216154, 0.042407374497279694, 0.1043247328792201, 0.10335961845850565, 0.16424194237855264, 0.19819142434034345, 1.0, 0.18705621470310296, 0.05406934486370474, 0.06747269398174878, 0.11893450781395974, 0.20714553653347026, 0.06528210738718529, 0.01912187850281107, 0.014966638655967049, 0.030850873755921403, 0.013434783236679605, 0.08043878579806327, 0.0017197959752002362, 0.003234325734933204, 0.011631444817429091, 0.029099353177847724, 0.007919553320125812, 0.03873965450361751, 0.06139819033012574], [0.04538219494225614, 0.04756215056482287, 0.0292884592148115, 0.007238050454475224, 0.0244799067281219, 0.019490995556926953, 0.003531743278311202, 0.015647585768382325, 0.14550914200514722, 0.04736722577650843, 0.0009194960739353604, 0.035177598245035836, 0.18705621470310296, 1.0, 0.0937371128610633, 0.014831407429931895, 0.00043909157051065414, 0.016840382687648047, 0.010033681405320762, 0.0060828423545243255, 0.10124923796647642, 0.050229107949173325, 0.007246065616553638, 0.0018203701526296621, 0.0046382952293172255, 0.0030959191877065638, 0.0040162941504773035, 0.0034096751283895724, 0.006612317643797521, 0.005937516973510084, 0.0031116784863365627], [0.09315292799476561, 0.02403780022889662, 0.08770415305319729, 0.12916654261894442, 0.10003913820988634, 0.03643563018200072, 0.06844157585522823, 0.06002134458833867, 0.0392090433831566, 0.030403089090460196, 0.006005540704239143, 0.1533166409136424, 0.05406934486370474, 0.0937371128610633, 1.0, 0.020145654303252474, 0.1289405973711185, 0.16761875534688073, 0.028367666521418783, 0.02194343061897903, 0.10509834970966177, 0.08334447702575258, 0.008713911571044772, 0.01579837135099477, 0.02258569598527801, 0.035313853750403496, 0.004993075581842662, 0.09169057434144773, 0.018367347653753533, 0.004688882991750852, 0.06319053374516205], [0.2062450008016956, 0.029743364003262402, 0.039469927831454185, 0.050833557736193226, 0.054540194971642794, 0.04194595017881938, 0.046465597070966584, 0.052160518887930725, 0.015592625984436356, 0.004265764210953683, 0.028320516493851637, 0.03739233320235205, 0.06747269398174878, 0.014831407429931895, 0.020145654303252474, 1.0, 0.013633086470120357, 0.023618458442671082, 0.012713503896655544, 0.05415062539603552, 0.09379274099251304, 0.031119544532008565, 0.000518483218815867, 0.032859885992943295, 0.023026108079034355, 0.011401795447416815, 0.017809574967311396, 0.029113952235478524, 0.03913160324102167, 0.07244975713088461, 0.0020821199036716725], [0.0018735088319242585, 0.037330420093221794, 0.06958478698661558, 0.04585043618436232, 0.040180655964334774, 0.006783008850839057, 0.019352323513483767, 0.12018820223133796, 0.08928979140434422, 0.03086952557158659, 0.05479526719533803, 0.07041219527016623, 0.11893450781395974, 0.00043909157051065414, 0.1289405973711185, 0.013633086470120357, 1.0, 0.23707209037879198, 0.02125373276945088, 0.018535851649263285, 0.17820203878250776, 0.09091272817391426, 0.04539049330572772, 0.04436641707491041, 0.030638847672248115, 0.015265007063514692, 0.041253325635344444, 0.04698786504577928, 0.010728759299765214, 0.1076553333020072, 0.04825229334600207], [0.10211885384221969, 0.05657038554236562, 0.0036637285242276754, 0.03541836988366368, 0.04854062968072033, 0.1450793876790707, 0.028456710640176384, 0.14587935023399368, 0.0731463870239618, 0.06894380822728885, 0.14727432180984343, 0.07498544639891294, 0.20714553653347026, 0.016840382687648047, 0.16761875534688073, 0.023618458442671082, 0.23707209037879198, 1.0, 0.15779426148783546, 0.044978005131985736, 0.016452892580372514, 0.009558780669058202, 0.013003699490764358, 0.03668526523893976, 0.053014276755664384, 0.0042932927174922425, 0.008231094194148572, 0.04606604743901569, 0.06484477939943353, 0.05449179374508115, 0.04246330127694007], [0.09076293178272453, 0.044911400795315, 0.012401616421778965, 0.04507557352592819, 0.022203058660599333, 0.016579771236290508, 0.05349465961754666, 0.070987287774944, 0.06706170344115278, 0.01439819697095383, 0.05317666836725479, 0.06937782113847671, 0.06528210738718529, 0.010033681405320762, 0.028367666521418783, 0.012713503896655544, 0.02125373276945088, 0.15779426148783546, 1.0, 0.004664034489877415, 0.10703958914871627, 0.02494738851433383, 0.057039825441434086, 0.1093403103420502, 0.04849395155710676, 0.006040822880337683, 0.02758084941356745, 0.019621951928445236, 0.022456869523615555, 0.04762761193028773, 0.03295721752945667], [0.025602959488490104, 0.032279093147907174, 0.0014783419848280854, 0.01597509871648846, 0.018657010889304295, 0.012578789282411282, 0.03185346772388746, 0.001187115851651308, 0.03392060832640789, 0.003062777740626578, 0.03990923432967624, 0.01004006518738145, 0.01912187850281107, 0.0060828423545243255, 0.02194343061897903, 0.05415062539603552, 0.018535851649263285, 0.044978005131985736, 0.004664034489877415, 1.0, 0.2332259332855315, 0.004325287280906628, 0.010989222174214898, 0.07859144368374496, 0.05564482127508831, 0.003501890447402895, 0.01473333342047055, 0.01816746867877654, 0.04080833699583064, 0.009240764678755838, 0.022106753862899512], [0.12038290685451349, 0.21064289982142897, 0.04118135959831868, 0.10716083660236966, 0.00917462417042355, 0.0563673627177233, 0.053143677330556825, 0.16050229140460492, 0.007122368045779142, 0.015624737761662927, 0.0886659202669249, 0.04203660876878655, 0.014966638655967049, 0.10124923796647642, 0.10509834970966177, 0.09379274099251304, 0.17820203878250776, 0.016452892580372514, 0.10703958914871627, 0.2332259332855315, 1.0, 0.11619199481665524, 0.034372895367217805, 0.19469845525118917, 0.04135716549023697, 0.04462648359731216, 0.04640185329138152, 0.1033537885831874, 0.2756008870907824, 0.201658401187002, 0.02214501493491031], [0.09624483281073555, 0.06284554681870716, 0.09827474784236256, 0.03914048156137403, 0.03926891273276836, 0.040012628168144666, 0.035696642827825656, 0.021197881333543653, 0.07637489404048173, 0.06486212870369482, 0.04635686677855825, 0.0008488006790000951, 0.030850873755921403, 0.050229107949173325, 0.08334447702575258, 0.031119544532008565, 0.09091272817391426, 0.009558780669058202, 0.02494738851433383, 0.004325287280906628, 0.11619199481665524, 1.0, 0.6774675331811408, 0.25077759529139415, 0.03207865207411974, 0.03725130999737064, 0.041737255014591385, 0.026695445127681194, 0.06731766249369489, 0.19497387685813894, 0.0343749657148658], [0.13212150520412277, 0.0294385306506914, 0.05673310727055086, 0.00461370245560264, 0.004811402764072403, 0.011457221568818924, 0.04083468398116454, 0.02430631975871233, 0.02079841330364062, 0.002345342211330278, 0.041545810977322996, 3.898316609885476e-05, 0.013434783236679605, 0.007246065616553638, 0.008713911571044772, 0.000518483218815867, 0.04539049330572772, 0.013003699490764358, 0.057039825441434086, 0.010989222174214898, 0.034372895367217805, 0.6774675331811408, 1.0, 0.23928142358774143, 0.014792025786401305, 0.028632935006143837, 0.0414610637718688, 0.07346619858505977, 0.03649142109285044, 0.08089420519351982, 0.0024528176155561823], [0.14912602949223694, 0.14564811143381523, 0.09554437632623099, 0.13976656882839275, 0.009917992147025847, 0.10748589830947454, 0.05063679306982331, 0.18551535045239695, 0.0746717608657894, 0.07425898469901993, 0.07819858462609611, 0.03190651307894513, 0.08043878579806327, 0.0018203701526296621, 0.01579837135099477, 0.032859885992943295, 0.04436641707491041, 0.03668526523893976, 0.1093403103420502, 0.07859144368374496, 0.19469845525118917, 0.25077759529139415, 0.23928142358774143, 1.0, 0.09705530521306369, 0.4262594338546332, 0.0022008408845889567, 0.04782366994081933, 0.07054973188564422, 0.05772434063838158, 0.005779671252950191], [0.015755735682194166, 0.0010862723117530438, 0.01322130402237846, 0.0006498264951866901, 0.008884866919470677, 0.022785993742669614, 0.1347194602894769, 0.012940475473769815, 0.02451679110736359, 0.0014224237508501782, 0.007843315372722835, 0.005211257903722104, 0.0017197959752002362, 0.0046382952293172255, 0.02258569598527801, 0.023026108079034355, 0.030638847672248115, 0.053014276755664384, 0.04849395155710676, 0.05564482127508831, 0.04135716549023697, 0.03207865207411974, 0.014792025786401305, 0.09705530521306369, 1.0, 0.0010653556230699108, 0.0057163305429217244, 0.03669552624849423, 0.04664252262241941, 0.012929280109121293, 0.009099226669705082], [0.25930758550180993, 0.04933905458145658, 0.08687958429762727, 0.03233089147433186, 0.06055207274780836, 0.01572559639876516, 0.01037213882564125, 0.04692383971767273, 0.07439752925280863, 0.022544569080614314, 0.017018825431766662, 0.005330743584935672, 0.003234325734933204, 0.0030959191877065638, 0.035313853750403496, 0.011401795447416815, 0.015265007063514692, 0.0042932927174922425, 0.006040822880337683, 0.003501890447402895, 0.04462648359731216, 0.03725130999737064, 0.028632935006143837, 0.4262594338546332, 0.0010653556230699108, 1.0, 0.0528433603949021, 0.09242605284705636, 0.052566418161214365, 0.023706558177650747, 0.004546653805649159], [0.0002380916169880717, 0.006331891985396654, 0.034273587017412975, 0.01657941740380345, 0.06359559248429719, 0.03033175354329448, 0.023911052144481273, 0.01777359862235751, 0.008571187674848888, 0.027304933314708738, 0.026731862677461922, 0.0059954633557866305, 0.011631444817429091, 0.0040162941504773035, 0.004993075581842662, 0.017809574967311396, 0.041253325635344444, 0.008231094194148572, 0.02758084941356745, 0.01473333342047055, 0.04640185329138152, 0.041737255014591385, 0.0414610637718688, 0.0022008408845889567, 0.0057163305429217244, 0.0528433603949021, 1.0, 0.16464755515506715, 0.02180718288604631, 0.06729645536706783, 0.005323583621221992], [0.03492177375751891, 0.10734516739739457, 0.1311773643348889, 0.14150058041715557, 0.03313412122399778, 0.01335715988507165, 0.07429060842736232, 0.09441184622705259, 0.19086708752829082, 0.0014454229781004748, 0.019247219554271267, 0.026626563649278276, 0.029099353177847724, 0.0034096751283895724, 0.09169057434144773, 0.029113952235478524, 0.04698786504577928, 0.04606604743901569, 0.019621951928445236, 0.01816746867877654, 0.1033537885831874, 0.026695445127681194, 0.07346619858505977, 0.04782366994081933, 0.03669552624849423, 0.09242605284705636, 0.16464755515506715, 1.0, 0.4587475493861663, 0.1279381906176273, 0.028511080126246268], [0.1431021779077634, 0.20930553922208534, 0.1394342819093068, 0.18077154590215655, 0.004967278177040401, 0.027438571574440556, 0.020902080914449558, 0.05740828018965551, 0.0896727447284798, 0.10406454502226849, 0.13020050219769855, 0.027620131915447953, 0.007919553320125812, 0.006612317643797521, 0.018367347653753533, 0.03913160324102167, 0.010728759299765214, 0.06484477939943353, 0.022456869523615555, 0.04080833699583064, 0.2756008870907824, 0.06731766249369489, 0.03649142109285044, 0.07054973188564422, 0.04664252262241941, 0.052566418161214365, 0.02180718288604631, 0.4587475493861663, 1.0, 0.010166255492203919, 0.02068254919410665], [0.039793438707637366, 0.08731381208061684, 0.502957500407527, 0.0003464193447759044, 0.020948280475451865, 0.3145000954055922, 0.20623450857977482, 0.030311514801454335, 0.004132723604247776, 0.0779487634356271, 0.05557963641787967, 0.04431811894267605, 0.03873965450361751, 0.005937516973510084, 0.004688882991750852, 0.07244975713088461, 0.1076553333020072, 0.05449179374508115, 0.04762761193028773, 0.009240764678755838, 0.201658401187002, 0.19497387685813894, 0.08089420519351982, 0.05772434063838158, 0.012929280109121293, 0.023706558177650747, 0.06729645536706783, 0.1279381906176273, 0.010166255492203919, 1.0, 0.007882288853356088], [0.011910772556846586, 0.04091797504729324, 0.049434859298409475, 0.057749789896748505, 0.06165241396780695, 0.02827918045757883, 0.03797907262590198, 0.046583059806013204, 0.02294547647533328, 0.0482311613106958, 0.05802418358430125, 0.05862357434673744, 0.06139819033012574, 0.0031116784863365627, 0.06319053374516205, 0.0020821199036716725, 0.04825229334600207, 0.04246330127694007, 0.03295721752945667, 0.022106753862899512, 0.02214501493491031, 0.0343749657148658, 0.0024528176155561823, 0.005779671252950191, 0.009099226669705082, 0.004546653805649159, 0.005323583621221992, 0.028511080126246268, 0.02068254919410665, 0.007882288853356088, 1.0]], \"zmax\": 1.0, \"zmin\": 3.898316609885476e-05}],\n",
       "                        {\"height\": 600, \"template\": {\"data\": {\"bar\": [{\"error_x\": {\"color\": \"#2a3f5f\"}, \"error_y\": {\"color\": \"#2a3f5f\"}, \"marker\": {\"line\": {\"color\": \"#E5ECF6\", \"width\": 0.5}}, \"type\": \"bar\"}], \"barpolar\": [{\"marker\": {\"line\": {\"color\": \"#E5ECF6\", \"width\": 0.5}}, \"type\": \"barpolar\"}], \"carpet\": [{\"aaxis\": {\"endlinecolor\": \"#2a3f5f\", \"gridcolor\": \"white\", \"linecolor\": \"white\", \"minorgridcolor\": \"white\", \"startlinecolor\": \"#2a3f5f\"}, \"baxis\": {\"endlinecolor\": \"#2a3f5f\", \"gridcolor\": \"white\", \"linecolor\": \"white\", \"minorgridcolor\": \"white\", \"startlinecolor\": \"#2a3f5f\"}, \"type\": \"carpet\"}], \"choropleth\": [{\"colorbar\": {\"outlinewidth\": 0, \"ticks\": \"\"}, \"type\": \"choropleth\"}], \"contour\": [{\"colorbar\": {\"outlinewidth\": 0, \"ticks\": \"\"}, \"colorscale\": [[0.0, \"#0d0887\"], [0.1111111111111111, \"#46039f\"], [0.2222222222222222, \"#7201a8\"], [0.3333333333333333, \"#9c179e\"], [0.4444444444444444, \"#bd3786\"], [0.5555555555555556, \"#d8576b\"], [0.6666666666666666, \"#ed7953\"], [0.7777777777777778, \"#fb9f3a\"], [0.8888888888888888, \"#fdca26\"], [1.0, \"#f0f921\"]], \"type\": \"contour\"}], \"contourcarpet\": [{\"colorbar\": {\"outlinewidth\": 0, \"ticks\": \"\"}, \"type\": \"contourcarpet\"}], \"heatmap\": [{\"colorbar\": {\"outlinewidth\": 0, \"ticks\": \"\"}, \"colorscale\": [[0.0, \"#0d0887\"], [0.1111111111111111, \"#46039f\"], [0.2222222222222222, \"#7201a8\"], [0.3333333333333333, \"#9c179e\"], [0.4444444444444444, \"#bd3786\"], [0.5555555555555556, \"#d8576b\"], [0.6666666666666666, \"#ed7953\"], [0.7777777777777778, \"#fb9f3a\"], [0.8888888888888888, \"#fdca26\"], [1.0, \"#f0f921\"]], \"type\": \"heatmap\"}], \"heatmapgl\": [{\"colorbar\": {\"outlinewidth\": 0, \"ticks\": \"\"}, \"colorscale\": [[0.0, \"#0d0887\"], [0.1111111111111111, \"#46039f\"], [0.2222222222222222, \"#7201a8\"], [0.3333333333333333, \"#9c179e\"], [0.4444444444444444, \"#bd3786\"], [0.5555555555555556, \"#d8576b\"], [0.6666666666666666, \"#ed7953\"], [0.7777777777777778, \"#fb9f3a\"], [0.8888888888888888, \"#fdca26\"], [1.0, \"#f0f921\"]], \"type\": \"heatmapgl\"}], \"histogram\": [{\"marker\": {\"colorbar\": {\"outlinewidth\": 0, \"ticks\": \"\"}}, \"type\": \"histogram\"}], \"histogram2d\": [{\"colorbar\": {\"outlinewidth\": 0, \"ticks\": \"\"}, \"colorscale\": [[0.0, \"#0d0887\"], [0.1111111111111111, \"#46039f\"], [0.2222222222222222, \"#7201a8\"], [0.3333333333333333, \"#9c179e\"], [0.4444444444444444, \"#bd3786\"], [0.5555555555555556, \"#d8576b\"], [0.6666666666666666, \"#ed7953\"], [0.7777777777777778, \"#fb9f3a\"], [0.8888888888888888, \"#fdca26\"], [1.0, \"#f0f921\"]], \"type\": \"histogram2d\"}], \"histogram2dcontour\": [{\"colorbar\": {\"outlinewidth\": 0, \"ticks\": \"\"}, \"colorscale\": [[0.0, \"#0d0887\"], [0.1111111111111111, \"#46039f\"], [0.2222222222222222, \"#7201a8\"], [0.3333333333333333, \"#9c179e\"], [0.4444444444444444, \"#bd3786\"], [0.5555555555555556, \"#d8576b\"], [0.6666666666666666, \"#ed7953\"], [0.7777777777777778, \"#fb9f3a\"], [0.8888888888888888, \"#fdca26\"], [1.0, \"#f0f921\"]], \"type\": \"histogram2dcontour\"}], \"mesh3d\": [{\"colorbar\": {\"outlinewidth\": 0, \"ticks\": \"\"}, \"type\": \"mesh3d\"}], \"parcoords\": [{\"line\": {\"colorbar\": {\"outlinewidth\": 0, \"ticks\": \"\"}}, \"type\": \"parcoords\"}], \"pie\": [{\"automargin\": true, \"type\": \"pie\"}], \"scatter\": [{\"marker\": {\"colorbar\": {\"outlinewidth\": 0, \"ticks\": \"\"}}, \"type\": \"scatter\"}], \"scatter3d\": [{\"line\": {\"colorbar\": {\"outlinewidth\": 0, \"ticks\": \"\"}}, \"marker\": {\"colorbar\": {\"outlinewidth\": 0, \"ticks\": \"\"}}, \"type\": \"scatter3d\"}], \"scattercarpet\": [{\"marker\": {\"colorbar\": {\"outlinewidth\": 0, \"ticks\": \"\"}}, \"type\": \"scattercarpet\"}], \"scattergeo\": [{\"marker\": {\"colorbar\": {\"outlinewidth\": 0, \"ticks\": \"\"}}, \"type\": \"scattergeo\"}], \"scattergl\": [{\"marker\": {\"colorbar\": {\"outlinewidth\": 0, \"ticks\": \"\"}}, \"type\": \"scattergl\"}], \"scattermapbox\": [{\"marker\": {\"colorbar\": {\"outlinewidth\": 0, \"ticks\": \"\"}}, \"type\": \"scattermapbox\"}], \"scatterpolar\": [{\"marker\": {\"colorbar\": {\"outlinewidth\": 0, \"ticks\": \"\"}}, \"type\": \"scatterpolar\"}], \"scatterpolargl\": [{\"marker\": {\"colorbar\": {\"outlinewidth\": 0, \"ticks\": \"\"}}, \"type\": \"scatterpolargl\"}], \"scatterternary\": [{\"marker\": {\"colorbar\": {\"outlinewidth\": 0, \"ticks\": \"\"}}, \"type\": \"scatterternary\"}], \"surface\": [{\"colorbar\": {\"outlinewidth\": 0, \"ticks\": \"\"}, \"colorscale\": [[0.0, \"#0d0887\"], [0.1111111111111111, \"#46039f\"], [0.2222222222222222, \"#7201a8\"], [0.3333333333333333, \"#9c179e\"], [0.4444444444444444, \"#bd3786\"], [0.5555555555555556, \"#d8576b\"], [0.6666666666666666, \"#ed7953\"], [0.7777777777777778, \"#fb9f3a\"], [0.8888888888888888, \"#fdca26\"], [1.0, \"#f0f921\"]], \"type\": \"surface\"}], \"table\": [{\"cells\": {\"fill\": {\"color\": \"#EBF0F8\"}, \"line\": {\"color\": \"white\"}}, \"header\": {\"fill\": {\"color\": \"#C8D4E3\"}, \"line\": {\"color\": \"white\"}}, \"type\": \"table\"}]}, \"layout\": {\"annotationdefaults\": {\"arrowcolor\": \"#2a3f5f\", \"arrowhead\": 0, \"arrowwidth\": 1}, \"coloraxis\": {\"colorbar\": {\"outlinewidth\": 0, \"ticks\": \"\"}}, \"colorscale\": {\"diverging\": [[0, \"#8e0152\"], [0.1, \"#c51b7d\"], [0.2, \"#de77ae\"], [0.3, \"#f1b6da\"], [0.4, \"#fde0ef\"], [0.5, \"#f7f7f7\"], [0.6, \"#e6f5d0\"], [0.7, \"#b8e186\"], [0.8, \"#7fbc41\"], [0.9, \"#4d9221\"], [1, \"#276419\"]], \"sequential\": [[0.0, \"#0d0887\"], [0.1111111111111111, \"#46039f\"], [0.2222222222222222, \"#7201a8\"], [0.3333333333333333, \"#9c179e\"], [0.4444444444444444, \"#bd3786\"], [0.5555555555555556, \"#d8576b\"], [0.6666666666666666, \"#ed7953\"], [0.7777777777777778, \"#fb9f3a\"], [0.8888888888888888, \"#fdca26\"], [1.0, \"#f0f921\"]], \"sequentialminus\": [[0.0, \"#0d0887\"], [0.1111111111111111, \"#46039f\"], [0.2222222222222222, \"#7201a8\"], [0.3333333333333333, \"#9c179e\"], [0.4444444444444444, \"#bd3786\"], [0.5555555555555556, \"#d8576b\"], [0.6666666666666666, \"#ed7953\"], [0.7777777777777778, \"#fb9f3a\"], [0.8888888888888888, \"#fdca26\"], [1.0, \"#f0f921\"]]}, \"colorway\": [\"#636efa\", \"#EF553B\", \"#00cc96\", \"#ab63fa\", \"#FFA15A\", \"#19d3f3\", \"#FF6692\", \"#B6E880\", \"#FF97FF\", \"#FECB52\"], \"font\": {\"color\": \"#2a3f5f\"}, \"geo\": {\"bgcolor\": \"white\", \"lakecolor\": \"white\", \"landcolor\": \"#E5ECF6\", \"showlakes\": true, \"showland\": true, \"subunitcolor\": \"white\"}, \"hoverlabel\": {\"align\": \"left\"}, \"hovermode\": \"closest\", \"mapbox\": {\"style\": \"light\"}, \"paper_bgcolor\": \"white\", \"plot_bgcolor\": \"#E5ECF6\", \"polar\": {\"angularaxis\": {\"gridcolor\": \"white\", \"linecolor\": \"white\", \"ticks\": \"\"}, \"bgcolor\": \"#E5ECF6\", \"radialaxis\": {\"gridcolor\": \"white\", \"linecolor\": \"white\", \"ticks\": \"\"}}, \"scene\": {\"xaxis\": {\"backgroundcolor\": \"#E5ECF6\", \"gridcolor\": \"white\", \"gridwidth\": 2, \"linecolor\": \"white\", \"showbackground\": true, \"ticks\": \"\", \"zerolinecolor\": \"white\"}, \"yaxis\": {\"backgroundcolor\": \"#E5ECF6\", \"gridcolor\": \"white\", \"gridwidth\": 2, \"linecolor\": \"white\", \"showbackground\": true, \"ticks\": \"\", \"zerolinecolor\": \"white\"}, \"zaxis\": {\"backgroundcolor\": \"#E5ECF6\", \"gridcolor\": \"white\", \"gridwidth\": 2, \"linecolor\": \"white\", \"showbackground\": true, \"ticks\": \"\", \"zerolinecolor\": \"white\"}}, \"shapedefaults\": {\"line\": {\"color\": \"#2a3f5f\"}}, \"ternary\": {\"aaxis\": {\"gridcolor\": \"white\", \"linecolor\": \"white\", \"ticks\": \"\"}, \"baxis\": {\"gridcolor\": \"white\", \"linecolor\": \"white\", \"ticks\": \"\"}, \"bgcolor\": \"#E5ECF6\", \"caxis\": {\"gridcolor\": \"white\", \"linecolor\": \"white\", \"ticks\": \"\"}}, \"title\": {\"x\": 0.05}, \"xaxis\": {\"automargin\": true, \"gridcolor\": \"white\", \"linecolor\": \"white\", \"ticks\": \"\", \"title\": {\"standoff\": 15}, \"zerolinecolor\": \"white\", \"zerolinewidth\": 2}, \"yaxis\": {\"automargin\": true, \"gridcolor\": \"white\", \"linecolor\": \"white\", \"ticks\": \"\", \"title\": {\"standoff\": 15}, \"zerolinecolor\": \"white\", \"zerolinewidth\": 2}}}, \"width\": 600},\n",
       "                        {\"showLink\": true, \"linkText\": \"Export to plot.ly\", \"plotlyServerURL\": \"https://plot.ly\", \"responsive\": true}\n",
       "                    ).then(function(){\n",
       "                            \n",
       "var gd = document.getElementById('5bc779f0-7c99-4e64-8878-215a7b68868f');\n",
       "var x = new MutationObserver(function (mutations, observer) {{\n",
       "        var display = window.getComputedStyle(gd).display;\n",
       "        if (!display || display === 'none') {{\n",
       "            console.log([gd, 'removed!']);\n",
       "            Plotly.purge(gd);\n",
       "            observer.disconnect();\n",
       "        }}\n",
       "}});\n",
       "\n",
       "// Listen for the removal of the full notebook cells\n",
       "var notebookContainer = gd.closest('#notebook-container');\n",
       "if (notebookContainer) {{\n",
       "    x.observe(notebookContainer, {childList: true});\n",
       "}}\n",
       "\n",
       "// Listen for the clearing of the current output cell\n",
       "var outputEl = gd.closest('.output');\n",
       "if (outputEl) {{\n",
       "    x.observe(outputEl, {childList: true});\n",
       "}}\n",
       "\n",
       "                        })\n",
       "                };\n",
       "                });\n",
       "            </script>\n",
       "        </div>"
      ]
     },
     "metadata": {},
     "output_type": "display_data"
    }
   ],
   "source": [
    "layout = cf.Layout(height=600,width=600)\n",
    "corr.abs().iplot(kind = 'heatmap', layout=layout.to_plotly_json(), colorscale = 'RdBu')"
   ]
  },
  {
   "cell_type": "markdown",
   "metadata": {},
   "source": [
    "****************Find highly correlated features************"
   ]
  },
  {
   "cell_type": "code",
   "execution_count": 28,
   "metadata": {},
   "outputs": [],
   "source": [
    "new_corr = corr.abs()\n",
    "new_corr.loc[:,:] = np.tril(new_corr, k=-1) # below main lower triangle of an array\n",
    "new_corr = new_corr.stack().to_frame('correlation').reset_index().sort_values(by='correlation', ascending=False)"
   ]
  },
  {
   "cell_type": "code",
   "execution_count": 29,
   "metadata": {},
   "outputs": [
    {
     "data": {
      "text/html": [
       "<div>\n",
       "<style scoped>\n",
       "    .dataframe tbody tr th:only-of-type {\n",
       "        vertical-align: middle;\n",
       "    }\n",
       "\n",
       "    .dataframe tbody tr th {\n",
       "        vertical-align: top;\n",
       "    }\n",
       "\n",
       "    .dataframe thead th {\n",
       "        text-align: right;\n",
       "    }\n",
       "</style>\n",
       "<table border=\"1\" class=\"dataframe\">\n",
       "  <thead>\n",
       "    <tr style=\"text-align: right;\">\n",
       "      <th></th>\n",
       "      <th>level_0</th>\n",
       "      <th>level_1</th>\n",
       "      <th>correlation</th>\n",
       "    </tr>\n",
       "  </thead>\n",
       "  <tbody>\n",
       "    <tr>\n",
       "      <th>703</th>\n",
       "      <td>V22</td>\n",
       "      <td>V21</td>\n",
       "      <td>0.677468</td>\n",
       "    </tr>\n",
       "    <tr>\n",
       "      <th>901</th>\n",
       "      <td>Amount</td>\n",
       "      <td>V2</td>\n",
       "      <td>0.502958</td>\n",
       "    </tr>\n",
       "    <tr>\n",
       "      <th>93</th>\n",
       "      <td>V3</td>\n",
       "      <td>Time</td>\n",
       "      <td>0.473833</td>\n",
       "    </tr>\n",
       "    <tr>\n",
       "      <th>895</th>\n",
       "      <td>V28</td>\n",
       "      <td>V27</td>\n",
       "      <td>0.458748</td>\n",
       "    </tr>\n",
       "    <tr>\n",
       "      <th>254</th>\n",
       "      <td>V8</td>\n",
       "      <td>V6</td>\n",
       "      <td>0.445178</td>\n",
       "    </tr>\n",
       "    <tr>\n",
       "      <th>222</th>\n",
       "      <td>V7</td>\n",
       "      <td>V5</td>\n",
       "      <td>0.430890</td>\n",
       "    </tr>\n",
       "    <tr>\n",
       "      <th>219</th>\n",
       "      <td>V7</td>\n",
       "      <td>V2</td>\n",
       "      <td>0.429022</td>\n",
       "    </tr>\n",
       "    <tr>\n",
       "      <th>798</th>\n",
       "      <td>V25</td>\n",
       "      <td>V23</td>\n",
       "      <td>0.426259</td>\n",
       "    </tr>\n",
       "    <tr>\n",
       "      <th>94</th>\n",
       "      <td>V3</td>\n",
       "      <td>V1</td>\n",
       "      <td>0.414041</td>\n",
       "    </tr>\n",
       "    <tr>\n",
       "      <th>255</th>\n",
       "      <td>V8</td>\n",
       "      <td>V7</td>\n",
       "      <td>0.387762</td>\n",
       "    </tr>\n",
       "    <tr>\n",
       "      <th>63</th>\n",
       "      <td>V2</td>\n",
       "      <td>V1</td>\n",
       "      <td>0.382613</td>\n",
       "    </tr>\n",
       "    <tr>\n",
       "      <th>157</th>\n",
       "      <td>V5</td>\n",
       "      <td>V2</td>\n",
       "      <td>0.345856</td>\n",
       "    </tr>\n",
       "    <tr>\n",
       "      <th>904</th>\n",
       "      <td>Amount</td>\n",
       "      <td>V5</td>\n",
       "      <td>0.314500</td>\n",
       "    </tr>\n",
       "  </tbody>\n",
       "</table>\n",
       "</div>"
      ],
      "text/plain": [
       "    level_0 level_1  correlation\n",
       "703     V22     V21     0.677468\n",
       "901  Amount      V2     0.502958\n",
       "93       V3    Time     0.473833\n",
       "895     V28     V27     0.458748\n",
       "254      V8      V6     0.445178\n",
       "222      V7      V5     0.430890\n",
       "219      V7      V2     0.429022\n",
       "798     V25     V23     0.426259\n",
       "94       V3      V1     0.414041\n",
       "255      V8      V7     0.387762\n",
       "63       V2      V1     0.382613\n",
       "157      V5      V2     0.345856\n",
       "904  Amount      V5     0.314500"
      ]
     },
     "execution_count": 29,
     "metadata": {},
     "output_type": "execute_result"
    }
   ],
   "source": [
    "new_corr[new_corr.correlation > 0.3]"
   ]
  },
  {
   "cell_type": "code",
   "execution_count": 30,
   "metadata": {},
   "outputs": [],
   "source": [
    "corr_with_target = df.corrwith(df.Class).sort_values(ascending = False).abs().to_frame('correlation_with_target').reset_index().head(20)\n",
    "unique_values = df.nunique().to_frame('unique_values').reset_index()\n",
    "corr_with_unique = pd.merge(corr_with_target, unique_values, on = 'index', how = 'inner')"
   ]
  },
  {
   "cell_type": "code",
   "execution_count": 31,
   "metadata": {},
   "outputs": [
    {
     "data": {
      "text/html": [
       "<div>\n",
       "<style scoped>\n",
       "    .dataframe tbody tr th:only-of-type {\n",
       "        vertical-align: middle;\n",
       "    }\n",
       "\n",
       "    .dataframe tbody tr th {\n",
       "        vertical-align: top;\n",
       "    }\n",
       "\n",
       "    .dataframe thead th {\n",
       "        text-align: right;\n",
       "    }\n",
       "</style>\n",
       "<table border=\"1\" class=\"dataframe\">\n",
       "  <thead>\n",
       "    <tr style=\"text-align: right;\">\n",
       "      <th></th>\n",
       "      <th>index</th>\n",
       "      <th>correlation_with_target</th>\n",
       "      <th>unique_values</th>\n",
       "    </tr>\n",
       "  </thead>\n",
       "  <tbody>\n",
       "    <tr>\n",
       "      <th>0</th>\n",
       "      <td>Class</td>\n",
       "      <td>1.000000</td>\n",
       "      <td>2</td>\n",
       "    </tr>\n",
       "    <tr>\n",
       "      <th>1</th>\n",
       "      <td>V11</td>\n",
       "      <td>0.149067</td>\n",
       "      <td>275663</td>\n",
       "    </tr>\n",
       "    <tr>\n",
       "      <th>2</th>\n",
       "      <td>V4</td>\n",
       "      <td>0.129326</td>\n",
       "      <td>275663</td>\n",
       "    </tr>\n",
       "    <tr>\n",
       "      <th>3</th>\n",
       "      <td>V2</td>\n",
       "      <td>0.084624</td>\n",
       "      <td>275663</td>\n",
       "    </tr>\n",
       "    <tr>\n",
       "      <th>4</th>\n",
       "      <td>V19</td>\n",
       "      <td>0.033631</td>\n",
       "      <td>275663</td>\n",
       "    </tr>\n",
       "    <tr>\n",
       "      <th>5</th>\n",
       "      <td>V8</td>\n",
       "      <td>0.033068</td>\n",
       "      <td>275663</td>\n",
       "    </tr>\n",
       "    <tr>\n",
       "      <th>6</th>\n",
       "      <td>V21</td>\n",
       "      <td>0.026357</td>\n",
       "      <td>275663</td>\n",
       "    </tr>\n",
       "    <tr>\n",
       "      <th>7</th>\n",
       "      <td>V27</td>\n",
       "      <td>0.021892</td>\n",
       "      <td>275663</td>\n",
       "    </tr>\n",
       "    <tr>\n",
       "      <th>8</th>\n",
       "      <td>V20</td>\n",
       "      <td>0.021486</td>\n",
       "      <td>275663</td>\n",
       "    </tr>\n",
       "    <tr>\n",
       "      <th>9</th>\n",
       "      <td>V28</td>\n",
       "      <td>0.009682</td>\n",
       "      <td>275663</td>\n",
       "    </tr>\n",
       "    <tr>\n",
       "      <th>10</th>\n",
       "      <td>Amount</td>\n",
       "      <td>0.005777</td>\n",
       "      <td>32767</td>\n",
       "    </tr>\n",
       "    <tr>\n",
       "      <th>11</th>\n",
       "      <td>V22</td>\n",
       "      <td>0.004887</td>\n",
       "      <td>275663</td>\n",
       "    </tr>\n",
       "    <tr>\n",
       "      <th>12</th>\n",
       "      <td>V26</td>\n",
       "      <td>0.004265</td>\n",
       "      <td>275663</td>\n",
       "    </tr>\n",
       "    <tr>\n",
       "      <th>13</th>\n",
       "      <td>V25</td>\n",
       "      <td>0.003202</td>\n",
       "      <td>275663</td>\n",
       "    </tr>\n",
       "    <tr>\n",
       "      <th>14</th>\n",
       "      <td>V15</td>\n",
       "      <td>0.003300</td>\n",
       "      <td>275663</td>\n",
       "    </tr>\n",
       "    <tr>\n",
       "      <th>15</th>\n",
       "      <td>V13</td>\n",
       "      <td>0.003897</td>\n",
       "      <td>275663</td>\n",
       "    </tr>\n",
       "    <tr>\n",
       "      <th>16</th>\n",
       "      <td>V23</td>\n",
       "      <td>0.006333</td>\n",
       "      <td>275663</td>\n",
       "    </tr>\n",
       "    <tr>\n",
       "      <th>17</th>\n",
       "      <td>V24</td>\n",
       "      <td>0.007210</td>\n",
       "      <td>275663</td>\n",
       "    </tr>\n",
       "    <tr>\n",
       "      <th>18</th>\n",
       "      <td>Time</td>\n",
       "      <td>0.012359</td>\n",
       "      <td>124592</td>\n",
       "    </tr>\n",
       "    <tr>\n",
       "      <th>19</th>\n",
       "      <td>V6</td>\n",
       "      <td>0.043915</td>\n",
       "      <td>275663</td>\n",
       "    </tr>\n",
       "  </tbody>\n",
       "</table>\n",
       "</div>"
      ],
      "text/plain": [
       "     index  correlation_with_target  unique_values\n",
       "0    Class                 1.000000              2\n",
       "1      V11                 0.149067         275663\n",
       "2       V4                 0.129326         275663\n",
       "3       V2                 0.084624         275663\n",
       "4      V19                 0.033631         275663\n",
       "5       V8                 0.033068         275663\n",
       "6      V21                 0.026357         275663\n",
       "7      V27                 0.021892         275663\n",
       "8      V20                 0.021486         275663\n",
       "9      V28                 0.009682         275663\n",
       "10  Amount                 0.005777          32767\n",
       "11     V22                 0.004887         275663\n",
       "12     V26                 0.004265         275663\n",
       "13     V25                 0.003202         275663\n",
       "14     V15                 0.003300         275663\n",
       "15     V13                 0.003897         275663\n",
       "16     V23                 0.006333         275663\n",
       "17     V24                 0.007210         275663\n",
       "18    Time                 0.012359         124592\n",
       "19      V6                 0.043915         275663"
      ]
     },
     "execution_count": 31,
     "metadata": {},
     "output_type": "execute_result"
    }
   ],
   "source": [
    "corr_with_unique"
   ]
  },
  {
   "cell_type": "code",
   "execution_count": 32,
   "metadata": {},
   "outputs": [],
   "source": [
    "df_major=df[df.Class==0]"
   ]
  },
  {
   "cell_type": "code",
   "execution_count": 33,
   "metadata": {},
   "outputs": [],
   "source": [
    "df_minor=df[df.Class==1]"
   ]
  },
  {
   "cell_type": "code",
   "execution_count": 34,
   "metadata": {},
   "outputs": [
    {
     "data": {
      "text/plain": [
       "(283253, 31)"
      ]
     },
     "execution_count": 34,
     "metadata": {},
     "output_type": "execute_result"
    }
   ],
   "source": [
    "df_major.shape"
   ]
  },
  {
   "cell_type": "code",
   "execution_count": 35,
   "metadata": {},
   "outputs": [],
   "source": [
    "from sklearn.utils import resample"
   ]
  },
  {
   "cell_type": "code",
   "execution_count": 36,
   "metadata": {},
   "outputs": [],
   "source": [
    "df_minor_upsmapled = resample(df_minor, replace = True, n_samples = 283253, random_state = 2018)"
   ]
  },
  {
   "cell_type": "code",
   "execution_count": 37,
   "metadata": {},
   "outputs": [
    {
     "data": {
      "text/plain": [
       "(283253, 31)"
      ]
     },
     "execution_count": 37,
     "metadata": {},
     "output_type": "execute_result"
    }
   ],
   "source": [
    "df_minor_upsmapled.shape"
   ]
  },
  {
   "cell_type": "code",
   "execution_count": 38,
   "metadata": {},
   "outputs": [],
   "source": [
    "final_data=pd.concat([df_minor_upsmapled,df_major])\n"
   ]
  },
  {
   "cell_type": "code",
   "execution_count": 39,
   "metadata": {},
   "outputs": [
    {
     "data": {
      "text/plain": [
       "(566506, 31)"
      ]
     },
     "execution_count": 39,
     "metadata": {},
     "output_type": "execute_result"
    }
   ],
   "source": [
    "final_data.shape"
   ]
  },
  {
   "cell_type": "markdown",
   "metadata": {},
   "source": [
    "************Data Splitation and Standerdization************"
   ]
  },
  {
   "cell_type": "code",
   "execution_count": 40,
   "metadata": {},
   "outputs": [],
   "source": [
    "X = final_data.drop('Class', axis = 1)\n",
    "Y = final_data.Class"
   ]
  },
  {
   "cell_type": "code",
   "execution_count": 41,
   "metadata": {},
   "outputs": [],
   "source": [
    "xtrain, xtest, ytrain, ytest = train_test_split(X, Y, test_size=0.25, random_state=0)"
   ]
  },
  {
   "cell_type": "code",
   "execution_count": 42,
   "metadata": {},
   "outputs": [],
   "source": [
    "mms = StandardScaler()\n",
    "mms.fit(xtrain)\n",
    "xtrain_scaled = mms.transform(xtrain)\n",
    "xtest_scaled = mms.transform(xtest)"
   ]
  },
  {
   "cell_type": "code",
   "execution_count": 43,
   "metadata": {},
   "outputs": [],
   "source": [
    "def evaluate_model(ytest, ypred, ypred_proba = None):\n",
    "    if ypred_proba is not None:\n",
    "        print('ROC-AUC score of the model: {}'.format(roc_auc_score(ytest, ypred_proba[:, 1])))\n",
    "    print('Accuracy of the model: {}\\n'.format(accuracy_score(ytest, ypred)))\n",
    "    print('Classification report: \\n{}\\n'.format(classification_report(ytest, ypred)))\n",
    "    print('Confusion matrix: \\n{}\\n'.format(confusion_matrix(ytest, ypred)))"
   ]
  },
  {
   "cell_type": "code",
   "execution_count": 44,
   "metadata": {},
   "outputs": [],
   "source": [
    "from sklearn.linear_model import LogisticRegression\n",
    "from sklearn.ensemble import RandomForestClassifier"
   ]
  },
  {
   "cell_type": "code",
   "execution_count": 45,
   "metadata": {},
   "outputs": [],
   "source": [
    "logisticRegr = LogisticRegression()"
   ]
  },
  {
   "cell_type": "code",
   "execution_count": 46,
   "metadata": {},
   "outputs": [
    {
     "data": {
      "text/plain": [
       "LogisticRegression(C=1.0, class_weight=None, dual=False, fit_intercept=True,\n",
       "                   intercept_scaling=1, l1_ratio=None, max_iter=100,\n",
       "                   multi_class='warn', n_jobs=None, penalty='l2',\n",
       "                   random_state=None, solver='warn', tol=0.0001, verbose=0,\n",
       "                   warm_start=False)"
      ]
     },
     "execution_count": 46,
     "metadata": {},
     "output_type": "execute_result"
    }
   ],
   "source": [
    "logisticRegr.fit(xtrain_scaled, ytrain)"
   ]
  },
  {
   "cell_type": "code",
   "execution_count": 47,
   "metadata": {},
   "outputs": [],
   "source": [
    "lr_pred = logisticRegr.predict(xtest_scaled)"
   ]
  },
  {
   "cell_type": "code",
   "execution_count": 48,
   "metadata": {},
   "outputs": [
    {
     "name": "stdout",
     "output_type": "stream",
     "text": [
      "Accuracy of the model: 0.9486467975739089\n",
      "\n",
      "Classification report: \n",
      "              precision    recall  f1-score   support\n",
      "\n",
      "           0       0.92      0.98      0.95     71094\n",
      "           1       0.98      0.92      0.95     70533\n",
      "\n",
      "    accuracy                           0.95    141627\n",
      "   macro avg       0.95      0.95      0.95    141627\n",
      "weighted avg       0.95      0.95      0.95    141627\n",
      "\n",
      "\n",
      "Confusion matrix: \n",
      "[[69477  1617]\n",
      " [ 5656 64877]]\n",
      "\n"
     ]
    }
   ],
   "source": [
    "evaluate_model(ytest, lr_pred)"
   ]
  },
  {
   "cell_type": "markdown",
   "metadata": {},
   "source": [
    "**********Random Forest**************"
   ]
  },
  {
   "cell_type": "code",
   "execution_count": 49,
   "metadata": {},
   "outputs": [],
   "source": [
    "def random_forest(xtrain, xtest, ytrain):\n",
    "    rf_params = {\n",
    "        'n_estimators': 126, \n",
    "        'max_depth': 14\n",
    "    }\n",
    "\n",
    "    rf = RandomForestClassifier(**rf_params)\n",
    "    rf.fit(xtrain, ytrain)\n",
    "    rfpred = rf.predict(xtest)\n",
    "    rfpred_proba = rf.predict_proba(xtest)\n",
    "    \n",
    "    return rfpred, rfpred_proba, rf"
   ]
  },
  {
   "cell_type": "code",
   "execution_count": 50,
   "metadata": {},
   "outputs": [],
   "source": [
    "rfpred, rfpred_proba, rf = random_forest(xtrain_scaled, xtest_scaled, ytrain)"
   ]
  },
  {
   "cell_type": "code",
   "execution_count": 51,
   "metadata": {},
   "outputs": [],
   "source": [
    "from sklearn.metrics import recall_score, roc_auc_score, f1_score\n",
    "from sklearn.metrics import accuracy_score, roc_auc_score,                             classification_report, confusion_matrix"
   ]
  },
  {
   "cell_type": "code",
   "execution_count": 52,
   "metadata": {},
   "outputs": [
    {
     "name": "stdout",
     "output_type": "stream",
     "text": [
      "ROC-AUC score of the model: 0.9999965234632542\n",
      "Accuracy of the model: 0.9999082095928037\n",
      "\n",
      "Classification report: \n",
      "              precision    recall  f1-score   support\n",
      "\n",
      "           0       1.00      1.00      1.00     71094\n",
      "           1       1.00      1.00      1.00     70533\n",
      "\n",
      "    accuracy                           1.00    141627\n",
      "   macro avg       1.00      1.00      1.00    141627\n",
      "weighted avg       1.00      1.00      1.00    141627\n",
      "\n",
      "\n",
      "Confusion matrix: \n",
      "[[71081    13]\n",
      " [    0 70533]]\n",
      "\n"
     ]
    }
   ],
   "source": [
    "evaluate_model(ytest, rfpred, rfpred_proba)"
   ]
  }
 ],
 "metadata": {
  "kernelspec": {
   "display_name": "Python 3",
   "language": "python",
   "name": "python3"
  },
  "language_info": {
   "codemirror_mode": {
    "name": "ipython",
    "version": 3
   },
   "file_extension": ".py",
   "mimetype": "text/x-python",
   "name": "python",
   "nbconvert_exporter": "python",
   "pygments_lexer": "ipython3",
   "version": "3.6.6"
  }
 },
 "nbformat": 4,
 "nbformat_minor": 1
}
